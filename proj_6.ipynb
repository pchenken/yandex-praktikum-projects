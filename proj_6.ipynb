{
 "cells": [
  {
   "cell_type": "markdown",
   "metadata": {},
   "source": [
    "# Аналитика в Яндекс.Афише"
   ]
  },
  {
   "cell_type": "markdown",
   "metadata": {},
   "source": [
    "## Постановка задачи"
   ]
  },
  {
   "cell_type": "markdown",
   "metadata": {},
   "source": [
    "В качестве стажировки в Яндекс.Афише требуется помочь маркетологам оптимизировать маркетинговые затраты.\n",
    "\n",
    "В нашем распоряжении есть данные от Яндекс.Афиши с июня 2017 по конец мая 2018 года:\n",
    "* лог сервера с данными о посещениях сайта Яндекс.Афиши,\n",
    "* выгрузка всех заказов за этот период,\n",
    "* статистика рекламных расходов.\n",
    "\n",
    "Нужно определить:\n",
    "* как люди пользуются продуктом,\n",
    "* когда они начинают покупать,\n",
    "* сколько денег приносит каждый клиент\n",
    "* когда клиент окупается."
   ]
  },
  {
   "cell_type": "markdown",
   "metadata": {},
   "source": [
    "## Описание данных\n",
    "\n",
    "* Таблица visits (лог сервера с информацией о посещениях сайта)\n",
    "* Таблица orders (информация о заказах)\n",
    "* Таблица costs (информация о затратах на маркетинг)\n"
   ]
  },
  {
   "cell_type": "markdown",
   "metadata": {},
   "source": [
    "## Шаг 1. Подготовка данных к анализу"
   ]
  },
  {
   "cell_type": "markdown",
   "metadata": {},
   "source": [
    "Импортируем необходимые для анализа библиотеки."
   ]
  },
  {
   "cell_type": "code",
   "execution_count": 1,
   "metadata": {},
   "outputs": [],
   "source": [
    "import pandas as pd"
   ]
  },
  {
   "cell_type": "code",
   "execution_count": 2,
   "metadata": {},
   "outputs": [],
   "source": [
    "import numpy as np"
   ]
  },
  {
   "cell_type": "markdown",
   "metadata": {},
   "source": [
    "### Информация о посещениях сайта\n",
    "\n",
    "Прочитаем в датафрейм лог с сервера, содержащий информацию о посещениях сайта."
   ]
  },
  {
   "cell_type": "code",
   "execution_count": 3,
   "metadata": {},
   "outputs": [
    {
     "data": {
      "text/html": [
       "<div>\n",
       "<style scoped>\n",
       "    .dataframe tbody tr th:only-of-type {\n",
       "        vertical-align: middle;\n",
       "    }\n",
       "\n",
       "    .dataframe tbody tr th {\n",
       "        vertical-align: top;\n",
       "    }\n",
       "\n",
       "    .dataframe thead th {\n",
       "        text-align: right;\n",
       "    }\n",
       "</style>\n",
       "<table border=\"1\" class=\"dataframe\">\n",
       "  <thead>\n",
       "    <tr style=\"text-align: right;\">\n",
       "      <th></th>\n",
       "      <th>Device</th>\n",
       "      <th>End Ts</th>\n",
       "      <th>Source Id</th>\n",
       "      <th>Start Ts</th>\n",
       "      <th>Uid</th>\n",
       "    </tr>\n",
       "  </thead>\n",
       "  <tbody>\n",
       "    <tr>\n",
       "      <td>0</td>\n",
       "      <td>touch</td>\n",
       "      <td>2017-12-20 17:38:00</td>\n",
       "      <td>4</td>\n",
       "      <td>2017-12-20 17:20:00</td>\n",
       "      <td>16879256277535980062</td>\n",
       "    </tr>\n",
       "    <tr>\n",
       "      <td>1</td>\n",
       "      <td>desktop</td>\n",
       "      <td>2018-02-19 17:21:00</td>\n",
       "      <td>2</td>\n",
       "      <td>2018-02-19 16:53:00</td>\n",
       "      <td>104060357244891740</td>\n",
       "    </tr>\n",
       "    <tr>\n",
       "      <td>2</td>\n",
       "      <td>touch</td>\n",
       "      <td>2017-07-01 01:54:00</td>\n",
       "      <td>5</td>\n",
       "      <td>2017-07-01 01:54:00</td>\n",
       "      <td>7459035603376831527</td>\n",
       "    </tr>\n",
       "    <tr>\n",
       "      <td>3</td>\n",
       "      <td>desktop</td>\n",
       "      <td>2018-05-20 11:23:00</td>\n",
       "      <td>9</td>\n",
       "      <td>2018-05-20 10:59:00</td>\n",
       "      <td>16174680259334210214</td>\n",
       "    </tr>\n",
       "    <tr>\n",
       "      <td>4</td>\n",
       "      <td>desktop</td>\n",
       "      <td>2017-12-27 14:06:00</td>\n",
       "      <td>3</td>\n",
       "      <td>2017-12-27 14:06:00</td>\n",
       "      <td>9969694820036681168</td>\n",
       "    </tr>\n",
       "    <tr>\n",
       "      <td>5</td>\n",
       "      <td>desktop</td>\n",
       "      <td>2017-09-03 21:36:00</td>\n",
       "      <td>5</td>\n",
       "      <td>2017-09-03 21:35:00</td>\n",
       "      <td>16007536194108375387</td>\n",
       "    </tr>\n",
       "    <tr>\n",
       "      <td>6</td>\n",
       "      <td>desktop</td>\n",
       "      <td>2018-01-30 12:09:00</td>\n",
       "      <td>1</td>\n",
       "      <td>2018-01-30 11:13:00</td>\n",
       "      <td>6661610529277171451</td>\n",
       "    </tr>\n",
       "    <tr>\n",
       "      <td>7</td>\n",
       "      <td>touch</td>\n",
       "      <td>2017-11-05 15:15:00</td>\n",
       "      <td>3</td>\n",
       "      <td>2017-11-05 15:14:00</td>\n",
       "      <td>11423865690854540312</td>\n",
       "    </tr>\n",
       "    <tr>\n",
       "      <td>8</td>\n",
       "      <td>desktop</td>\n",
       "      <td>2017-07-19 10:44:00</td>\n",
       "      <td>3</td>\n",
       "      <td>2017-07-19 10:41:00</td>\n",
       "      <td>2987360259350925644</td>\n",
       "    </tr>\n",
       "    <tr>\n",
       "      <td>9</td>\n",
       "      <td>desktop</td>\n",
       "      <td>2017-11-08 13:43:00</td>\n",
       "      <td>5</td>\n",
       "      <td>2017-11-08 13:42:00</td>\n",
       "      <td>1289240080042562063</td>\n",
       "    </tr>\n",
       "  </tbody>\n",
       "</table>\n",
       "</div>"
      ],
      "text/plain": [
       "    Device               End Ts  Source Id             Start Ts  \\\n",
       "0    touch  2017-12-20 17:38:00          4  2017-12-20 17:20:00   \n",
       "1  desktop  2018-02-19 17:21:00          2  2018-02-19 16:53:00   \n",
       "2    touch  2017-07-01 01:54:00          5  2017-07-01 01:54:00   \n",
       "3  desktop  2018-05-20 11:23:00          9  2018-05-20 10:59:00   \n",
       "4  desktop  2017-12-27 14:06:00          3  2017-12-27 14:06:00   \n",
       "5  desktop  2017-09-03 21:36:00          5  2017-09-03 21:35:00   \n",
       "6  desktop  2018-01-30 12:09:00          1  2018-01-30 11:13:00   \n",
       "7    touch  2017-11-05 15:15:00          3  2017-11-05 15:14:00   \n",
       "8  desktop  2017-07-19 10:44:00          3  2017-07-19 10:41:00   \n",
       "9  desktop  2017-11-08 13:43:00          5  2017-11-08 13:42:00   \n",
       "\n",
       "                    Uid  \n",
       "0  16879256277535980062  \n",
       "1    104060357244891740  \n",
       "2   7459035603376831527  \n",
       "3  16174680259334210214  \n",
       "4   9969694820036681168  \n",
       "5  16007536194108375387  \n",
       "6   6661610529277171451  \n",
       "7  11423865690854540312  \n",
       "8   2987360259350925644  \n",
       "9   1289240080042562063  "
      ]
     },
     "execution_count": 3,
     "metadata": {},
     "output_type": "execute_result"
    }
   ],
   "source": [
    "visits = pd.read_csv('datasets/visits_log.csv')\n",
    "visits.head(10)"
   ]
  },
  {
   "cell_type": "markdown",
   "metadata": {},
   "source": [
    "Переименуем столбцы для удобства работы."
   ]
  },
  {
   "cell_type": "code",
   "execution_count": 4,
   "metadata": {},
   "outputs": [],
   "source": [
    "visits.columns = ['device','end_ts', 'source_id', 'start_ts', 'uid']"
   ]
  },
  {
   "cell_type": "markdown",
   "metadata": {},
   "source": [
    "Изучим общую инофрмацию о файле."
   ]
  },
  {
   "cell_type": "code",
   "execution_count": 5,
   "metadata": {},
   "outputs": [
    {
     "name": "stdout",
     "output_type": "stream",
     "text": [
      "<class 'pandas.core.frame.DataFrame'>\n",
      "RangeIndex: 359400 entries, 0 to 359399\n",
      "Data columns (total 5 columns):\n",
      "device       359400 non-null object\n",
      "end_ts       359400 non-null object\n",
      "source_id    359400 non-null int64\n",
      "start_ts     359400 non-null object\n",
      "uid          359400 non-null uint64\n",
      "dtypes: int64(1), object(3), uint64(1)\n",
      "memory usage: 13.7+ MB\n"
     ]
    }
   ],
   "source": [
    "visits.info()"
   ]
  },
  {
   "cell_type": "markdown",
   "metadata": {},
   "source": [
    "Пропущенных значений нет. Начало и конец сессии приведем к формату дат."
   ]
  },
  {
   "cell_type": "code",
   "execution_count": 6,
   "metadata": {},
   "outputs": [
    {
     "data": {
      "text/plain": [
       "device               object\n",
       "end_ts       datetime64[ns]\n",
       "source_id             int64\n",
       "start_ts     datetime64[ns]\n",
       "uid                  uint64\n",
       "dtype: object"
      ]
     },
     "execution_count": 6,
     "metadata": {},
     "output_type": "execute_result"
    }
   ],
   "source": [
    "visits['start_ts'] = pd.to_datetime(visits['start_ts'], format=\"%Y-%m-%d %H:%M\")\n",
    "visits['end_ts'] = pd.to_datetime(visits['end_ts'], format=\"%Y-%m-%d %H:%M\")\n",
    "visits.dtypes"
   ]
  },
  {
   "cell_type": "markdown",
   "metadata": {},
   "source": [
    "### Иноформация о заказах\n",
    "\n",
    "Прочитаем в датафрейм файл с данными о заказах за тот же период."
   ]
  },
  {
   "cell_type": "code",
   "execution_count": 7,
   "metadata": {},
   "outputs": [
    {
     "data": {
      "text/html": [
       "<div>\n",
       "<style scoped>\n",
       "    .dataframe tbody tr th:only-of-type {\n",
       "        vertical-align: middle;\n",
       "    }\n",
       "\n",
       "    .dataframe tbody tr th {\n",
       "        vertical-align: top;\n",
       "    }\n",
       "\n",
       "    .dataframe thead th {\n",
       "        text-align: right;\n",
       "    }\n",
       "</style>\n",
       "<table border=\"1\" class=\"dataframe\">\n",
       "  <thead>\n",
       "    <tr style=\"text-align: right;\">\n",
       "      <th></th>\n",
       "      <th>Buy Ts</th>\n",
       "      <th>Revenue</th>\n",
       "      <th>Uid</th>\n",
       "    </tr>\n",
       "  </thead>\n",
       "  <tbody>\n",
       "    <tr>\n",
       "      <td>0</td>\n",
       "      <td>2017-06-01 00:10:00</td>\n",
       "      <td>17.00</td>\n",
       "      <td>10329302124590727494</td>\n",
       "    </tr>\n",
       "    <tr>\n",
       "      <td>1</td>\n",
       "      <td>2017-06-01 00:25:00</td>\n",
       "      <td>0.55</td>\n",
       "      <td>11627257723692907447</td>\n",
       "    </tr>\n",
       "    <tr>\n",
       "      <td>2</td>\n",
       "      <td>2017-06-01 00:27:00</td>\n",
       "      <td>0.37</td>\n",
       "      <td>17903680561304213844</td>\n",
       "    </tr>\n",
       "    <tr>\n",
       "      <td>3</td>\n",
       "      <td>2017-06-01 00:29:00</td>\n",
       "      <td>0.55</td>\n",
       "      <td>16109239769442553005</td>\n",
       "    </tr>\n",
       "    <tr>\n",
       "      <td>4</td>\n",
       "      <td>2017-06-01 07:58:00</td>\n",
       "      <td>0.37</td>\n",
       "      <td>14200605875248379450</td>\n",
       "    </tr>\n",
       "    <tr>\n",
       "      <td>5</td>\n",
       "      <td>2017-06-01 08:43:00</td>\n",
       "      <td>0.18</td>\n",
       "      <td>10402394430196413321</td>\n",
       "    </tr>\n",
       "    <tr>\n",
       "      <td>6</td>\n",
       "      <td>2017-06-01 08:54:00</td>\n",
       "      <td>1.83</td>\n",
       "      <td>12464626743129688638</td>\n",
       "    </tr>\n",
       "    <tr>\n",
       "      <td>7</td>\n",
       "      <td>2017-06-01 09:22:00</td>\n",
       "      <td>1.22</td>\n",
       "      <td>3644482766749211722</td>\n",
       "    </tr>\n",
       "    <tr>\n",
       "      <td>8</td>\n",
       "      <td>2017-06-01 09:22:00</td>\n",
       "      <td>3.30</td>\n",
       "      <td>17542070709969841479</td>\n",
       "    </tr>\n",
       "    <tr>\n",
       "      <td>9</td>\n",
       "      <td>2017-06-01 09:23:00</td>\n",
       "      <td>0.37</td>\n",
       "      <td>1074355127080856382</td>\n",
       "    </tr>\n",
       "  </tbody>\n",
       "</table>\n",
       "</div>"
      ],
      "text/plain": [
       "                Buy Ts  Revenue                   Uid\n",
       "0  2017-06-01 00:10:00    17.00  10329302124590727494\n",
       "1  2017-06-01 00:25:00     0.55  11627257723692907447\n",
       "2  2017-06-01 00:27:00     0.37  17903680561304213844\n",
       "3  2017-06-01 00:29:00     0.55  16109239769442553005\n",
       "4  2017-06-01 07:58:00     0.37  14200605875248379450\n",
       "5  2017-06-01 08:43:00     0.18  10402394430196413321\n",
       "6  2017-06-01 08:54:00     1.83  12464626743129688638\n",
       "7  2017-06-01 09:22:00     1.22   3644482766749211722\n",
       "8  2017-06-01 09:22:00     3.30  17542070709969841479\n",
       "9  2017-06-01 09:23:00     0.37   1074355127080856382"
      ]
     },
     "execution_count": 7,
     "metadata": {},
     "output_type": "execute_result"
    }
   ],
   "source": [
    "orders = pd.read_csv('datasets/orders_log.csv')\n",
    "orders.head(10)"
   ]
  },
  {
   "cell_type": "markdown",
   "metadata": {},
   "source": [
    "Переименуем столбцы для удобства работы."
   ]
  },
  {
   "cell_type": "code",
   "execution_count": 8,
   "metadata": {},
   "outputs": [],
   "source": [
    "orders.columns = ['buy_ts', 'revenue', 'uid']"
   ]
  },
  {
   "cell_type": "markdown",
   "metadata": {},
   "source": [
    "Изучим общую информацию о файле."
   ]
  },
  {
   "cell_type": "code",
   "execution_count": 9,
   "metadata": {},
   "outputs": [
    {
     "name": "stdout",
     "output_type": "stream",
     "text": [
      "<class 'pandas.core.frame.DataFrame'>\n",
      "RangeIndex: 50415 entries, 0 to 50414\n",
      "Data columns (total 3 columns):\n",
      "buy_ts     50415 non-null object\n",
      "revenue    50415 non-null float64\n",
      "uid        50415 non-null uint64\n",
      "dtypes: float64(1), object(1), uint64(1)\n",
      "memory usage: 1.2+ MB\n"
     ]
    }
   ],
   "source": [
    "orders.info()"
   ]
  },
  {
   "cell_type": "markdown",
   "metadata": {},
   "source": [
    "По количеству строк видим, что заказов точно было меньше, чем пользователей, что реалистично. Пропущенных значений нет, а дату покупки следует привести к подходящему формату."
   ]
  },
  {
   "cell_type": "code",
   "execution_count": 10,
   "metadata": {},
   "outputs": [
    {
     "data": {
      "text/plain": [
       "buy_ts     datetime64[ns]\n",
       "revenue           float64\n",
       "uid                uint64\n",
       "dtype: object"
      ]
     },
     "execution_count": 10,
     "metadata": {},
     "output_type": "execute_result"
    }
   ],
   "source": [
    "orders['buy_ts'] = pd.to_datetime(orders['buy_ts'], format=\"%Y-%m-%d %H:%M\")\n",
    "orders.dtypes"
   ]
  },
  {
   "cell_type": "markdown",
   "metadata": {},
   "source": [
    "С заказами пока все."
   ]
  },
  {
   "cell_type": "markdown",
   "metadata": {},
   "source": [
    "### Затраты на маркетинг\n",
    "\n",
    "Прочитаем в датафрейм файл со статистикой рекламных расходов."
   ]
  },
  {
   "cell_type": "code",
   "execution_count": 11,
   "metadata": {},
   "outputs": [
    {
     "data": {
      "text/html": [
       "<div>\n",
       "<style scoped>\n",
       "    .dataframe tbody tr th:only-of-type {\n",
       "        vertical-align: middle;\n",
       "    }\n",
       "\n",
       "    .dataframe tbody tr th {\n",
       "        vertical-align: top;\n",
       "    }\n",
       "\n",
       "    .dataframe thead th {\n",
       "        text-align: right;\n",
       "    }\n",
       "</style>\n",
       "<table border=\"1\" class=\"dataframe\">\n",
       "  <thead>\n",
       "    <tr style=\"text-align: right;\">\n",
       "      <th></th>\n",
       "      <th>source_id</th>\n",
       "      <th>dt</th>\n",
       "      <th>costs</th>\n",
       "    </tr>\n",
       "  </thead>\n",
       "  <tbody>\n",
       "    <tr>\n",
       "      <td>0</td>\n",
       "      <td>1</td>\n",
       "      <td>2017-06-01</td>\n",
       "      <td>75.20</td>\n",
       "    </tr>\n",
       "    <tr>\n",
       "      <td>1</td>\n",
       "      <td>1</td>\n",
       "      <td>2017-06-02</td>\n",
       "      <td>62.25</td>\n",
       "    </tr>\n",
       "    <tr>\n",
       "      <td>2</td>\n",
       "      <td>1</td>\n",
       "      <td>2017-06-03</td>\n",
       "      <td>36.53</td>\n",
       "    </tr>\n",
       "    <tr>\n",
       "      <td>3</td>\n",
       "      <td>1</td>\n",
       "      <td>2017-06-04</td>\n",
       "      <td>55.00</td>\n",
       "    </tr>\n",
       "    <tr>\n",
       "      <td>4</td>\n",
       "      <td>1</td>\n",
       "      <td>2017-06-05</td>\n",
       "      <td>57.08</td>\n",
       "    </tr>\n",
       "    <tr>\n",
       "      <td>5</td>\n",
       "      <td>1</td>\n",
       "      <td>2017-06-06</td>\n",
       "      <td>40.39</td>\n",
       "    </tr>\n",
       "    <tr>\n",
       "      <td>6</td>\n",
       "      <td>1</td>\n",
       "      <td>2017-06-07</td>\n",
       "      <td>40.59</td>\n",
       "    </tr>\n",
       "    <tr>\n",
       "      <td>7</td>\n",
       "      <td>1</td>\n",
       "      <td>2017-06-08</td>\n",
       "      <td>56.63</td>\n",
       "    </tr>\n",
       "    <tr>\n",
       "      <td>8</td>\n",
       "      <td>1</td>\n",
       "      <td>2017-06-09</td>\n",
       "      <td>40.16</td>\n",
       "    </tr>\n",
       "    <tr>\n",
       "      <td>9</td>\n",
       "      <td>1</td>\n",
       "      <td>2017-06-10</td>\n",
       "      <td>43.24</td>\n",
       "    </tr>\n",
       "  </tbody>\n",
       "</table>\n",
       "</div>"
      ],
      "text/plain": [
       "   source_id          dt  costs\n",
       "0          1  2017-06-01  75.20\n",
       "1          1  2017-06-02  62.25\n",
       "2          1  2017-06-03  36.53\n",
       "3          1  2017-06-04  55.00\n",
       "4          1  2017-06-05  57.08\n",
       "5          1  2017-06-06  40.39\n",
       "6          1  2017-06-07  40.59\n",
       "7          1  2017-06-08  56.63\n",
       "8          1  2017-06-09  40.16\n",
       "9          1  2017-06-10  43.24"
      ]
     },
     "execution_count": 11,
     "metadata": {},
     "output_type": "execute_result"
    }
   ],
   "source": [
    "costs = pd.read_csv('datasets/costs.csv')\n",
    "costs.head(10)"
   ]
  },
  {
   "cell_type": "markdown",
   "metadata": {},
   "source": [
    "У нас нет расшифровок рекламных источников и единиц, в которых измеряются затраты. Видимо, Яндекс.Афиша не очень-то доверяет своим стажерам. Будем предполагать, что затраты в тысячах рублей. Это вполне соотносится со стоимостью заказов из таблицы orders, где 0.37 может быть 370 рублями за билет в кино, а 3.30 - это 3300 рублей за пару билетов на концерт. Что касается рекламных источников, будем рассчитывать, что они хотя бы совпадают с источниками из таблицы visits. "
   ]
  },
  {
   "cell_type": "markdown",
   "metadata": {},
   "source": [
    "Дадим столбцу dt более осознанное название на случай, если нам придется соединять таблицы."
   ]
  },
  {
   "cell_type": "code",
   "execution_count": 12,
   "metadata": {},
   "outputs": [],
   "source": [
    "costs.columns = ['source_id', 'cost_ts', 'costs']"
   ]
  },
  {
   "cell_type": "markdown",
   "metadata": {},
   "source": [
    "Изучим общую информацию о файле."
   ]
  },
  {
   "cell_type": "code",
   "execution_count": 13,
   "metadata": {},
   "outputs": [
    {
     "name": "stdout",
     "output_type": "stream",
     "text": [
      "<class 'pandas.core.frame.DataFrame'>\n",
      "RangeIndex: 2542 entries, 0 to 2541\n",
      "Data columns (total 3 columns):\n",
      "source_id    2542 non-null int64\n",
      "cost_ts      2542 non-null object\n",
      "costs        2542 non-null float64\n",
      "dtypes: float64(1), int64(1), object(1)\n",
      "memory usage: 59.7+ KB\n"
     ]
    }
   ],
   "source": [
    "costs.info()"
   ]
  },
  {
   "cell_type": "markdown",
   "metadata": {},
   "source": [
    "Скорректируем формат даты."
   ]
  },
  {
   "cell_type": "code",
   "execution_count": 14,
   "metadata": {},
   "outputs": [
    {
     "data": {
      "text/plain": [
       "source_id             int64\n",
       "cost_ts      datetime64[ns]\n",
       "costs               float64\n",
       "dtype: object"
      ]
     },
     "execution_count": 14,
     "metadata": {},
     "output_type": "execute_result"
    }
   ],
   "source": [
    "costs['cost_ts'] = pd.to_datetime(costs['cost_ts'], format=\"%Y-%m-%d\")\n",
    "costs.dtypes"
   ]
  },
  {
   "cell_type": "markdown",
   "metadata": {},
   "source": [
    "### Вывод\n",
    "\n",
    "Были загружены данные о визитах, заказах и расходах в переменные. Данные были оптимизированы для анализа."
   ]
  },
  {
   "cell_type": "markdown",
   "metadata": {},
   "source": [
    "## Шаг 2. Построение отчетов и расчет метрик"
   ]
  },
  {
   "cell_type": "markdown",
   "metadata": {},
   "source": [
    "## Продукт\n",
    "\n",
    "Ответим на следующие вопросы:\n",
    "* Сколько людей пользуются в день, неделю, месяц?\n",
    "* Сколько сессий в день?\n",
    "* Сколько длится одна сессия?\n",
    "* Как часто люди возвращаются?"
   ]
  },
  {
   "cell_type": "markdown",
   "metadata": {},
   "source": [
    "### Оценка пользовательской активности"
   ]
  },
  {
   "cell_type": "markdown",
   "metadata": {},
   "source": [
    "Изучим, сколько людей пользуются продуктом. Выделим в отдельные столбцы год, месяц и неделю, а также полную дату визита пользователя."
   ]
  },
  {
   "cell_type": "code",
   "execution_count": 15,
   "metadata": {},
   "outputs": [
    {
     "data": {
      "text/html": [
       "<div>\n",
       "<style scoped>\n",
       "    .dataframe tbody tr th:only-of-type {\n",
       "        vertical-align: middle;\n",
       "    }\n",
       "\n",
       "    .dataframe tbody tr th {\n",
       "        vertical-align: top;\n",
       "    }\n",
       "\n",
       "    .dataframe thead th {\n",
       "        text-align: right;\n",
       "    }\n",
       "</style>\n",
       "<table border=\"1\" class=\"dataframe\">\n",
       "  <thead>\n",
       "    <tr style=\"text-align: right;\">\n",
       "      <th></th>\n",
       "      <th>device</th>\n",
       "      <th>end_ts</th>\n",
       "      <th>source_id</th>\n",
       "      <th>start_ts</th>\n",
       "      <th>uid</th>\n",
       "      <th>session_year</th>\n",
       "      <th>session_month</th>\n",
       "      <th>session_week</th>\n",
       "      <th>session_date</th>\n",
       "    </tr>\n",
       "  </thead>\n",
       "  <tbody>\n",
       "    <tr>\n",
       "      <td>0</td>\n",
       "      <td>touch</td>\n",
       "      <td>2017-12-20 17:38:00</td>\n",
       "      <td>4</td>\n",
       "      <td>2017-12-20 17:20:00</td>\n",
       "      <td>16879256277535980062</td>\n",
       "      <td>2017</td>\n",
       "      <td>12</td>\n",
       "      <td>51</td>\n",
       "      <td>2017-12-20</td>\n",
       "    </tr>\n",
       "    <tr>\n",
       "      <td>1</td>\n",
       "      <td>desktop</td>\n",
       "      <td>2018-02-19 17:21:00</td>\n",
       "      <td>2</td>\n",
       "      <td>2018-02-19 16:53:00</td>\n",
       "      <td>104060357244891740</td>\n",
       "      <td>2018</td>\n",
       "      <td>2</td>\n",
       "      <td>8</td>\n",
       "      <td>2018-02-19</td>\n",
       "    </tr>\n",
       "    <tr>\n",
       "      <td>2</td>\n",
       "      <td>touch</td>\n",
       "      <td>2017-07-01 01:54:00</td>\n",
       "      <td>5</td>\n",
       "      <td>2017-07-01 01:54:00</td>\n",
       "      <td>7459035603376831527</td>\n",
       "      <td>2017</td>\n",
       "      <td>7</td>\n",
       "      <td>26</td>\n",
       "      <td>2017-07-01</td>\n",
       "    </tr>\n",
       "    <tr>\n",
       "      <td>3</td>\n",
       "      <td>desktop</td>\n",
       "      <td>2018-05-20 11:23:00</td>\n",
       "      <td>9</td>\n",
       "      <td>2018-05-20 10:59:00</td>\n",
       "      <td>16174680259334210214</td>\n",
       "      <td>2018</td>\n",
       "      <td>5</td>\n",
       "      <td>20</td>\n",
       "      <td>2018-05-20</td>\n",
       "    </tr>\n",
       "    <tr>\n",
       "      <td>4</td>\n",
       "      <td>desktop</td>\n",
       "      <td>2017-12-27 14:06:00</td>\n",
       "      <td>3</td>\n",
       "      <td>2017-12-27 14:06:00</td>\n",
       "      <td>9969694820036681168</td>\n",
       "      <td>2017</td>\n",
       "      <td>12</td>\n",
       "      <td>52</td>\n",
       "      <td>2017-12-27</td>\n",
       "    </tr>\n",
       "  </tbody>\n",
       "</table>\n",
       "</div>"
      ],
      "text/plain": [
       "    device              end_ts  source_id            start_ts  \\\n",
       "0    touch 2017-12-20 17:38:00          4 2017-12-20 17:20:00   \n",
       "1  desktop 2018-02-19 17:21:00          2 2018-02-19 16:53:00   \n",
       "2    touch 2017-07-01 01:54:00          5 2017-07-01 01:54:00   \n",
       "3  desktop 2018-05-20 11:23:00          9 2018-05-20 10:59:00   \n",
       "4  desktop 2017-12-27 14:06:00          3 2017-12-27 14:06:00   \n",
       "\n",
       "                    uid  session_year  session_month  session_week  \\\n",
       "0  16879256277535980062          2017             12            51   \n",
       "1    104060357244891740          2018              2             8   \n",
       "2   7459035603376831527          2017              7            26   \n",
       "3  16174680259334210214          2018              5            20   \n",
       "4   9969694820036681168          2017             12            52   \n",
       "\n",
       "  session_date  \n",
       "0   2017-12-20  \n",
       "1   2018-02-19  \n",
       "2   2017-07-01  \n",
       "3   2018-05-20  \n",
       "4   2017-12-27  "
      ]
     },
     "execution_count": 15,
     "metadata": {},
     "output_type": "execute_result"
    }
   ],
   "source": [
    "visits['session_year']  = visits['start_ts'].dt.year\n",
    "visits['session_month'] = visits['start_ts'].dt.month\n",
    "visits['session_week']  = visits['start_ts'].dt.week\n",
    "visits['session_date'] = visits['start_ts'].dt.date\n",
    "visits.head()"
   ]
  },
  {
   "cell_type": "markdown",
   "metadata": {},
   "source": [
    "Рассчитаем количество уникальных пользователей в день: сгруппируем данные по уникальным пользователям и найдём среднее."
   ]
  },
  {
   "cell_type": "code",
   "execution_count": 16,
   "metadata": {},
   "outputs": [
    {
     "data": {
      "text/plain": [
       "uid    907.991758\n",
       "dtype: float64"
      ]
     },
     "execution_count": 16,
     "metadata": {},
     "output_type": "execute_result"
    }
   ],
   "source": [
    "dau_total = visits.groupby('session_date').agg({'uid': 'nunique'}).mean()\n",
    "dau_total"
   ]
  },
  {
   "cell_type": "markdown",
   "metadata": {},
   "source": [
    "Рассчитаем количество уникальных пользователей в неделю."
   ]
  },
  {
   "cell_type": "code",
   "execution_count": 17,
   "metadata": {},
   "outputs": [
    {
     "data": {
      "text/plain": [
       "uid    5716.245283\n",
       "dtype: float64"
      ]
     },
     "execution_count": 17,
     "metadata": {},
     "output_type": "execute_result"
    }
   ],
   "source": [
    "wau_total = visits.groupby(['session_year', 'session_week']).agg({'uid': 'nunique'}).mean()\n",
    "wau_total"
   ]
  },
  {
   "cell_type": "markdown",
   "metadata": {},
   "source": [
    "Рассчитаем количество уникальных пользователей в месяц."
   ]
  },
  {
   "cell_type": "code",
   "execution_count": 18,
   "metadata": {},
   "outputs": [
    {
     "data": {
      "text/plain": [
       "uid    23228.416667\n",
       "dtype: float64"
      ]
     },
     "execution_count": 18,
     "metadata": {},
     "output_type": "execute_result"
    }
   ],
   "source": [
    "mau_total = visits.groupby(['session_year', 'session_month']).agg({'uid': 'nunique'}).mean()\n",
    "mau_total"
   ]
  },
  {
   "cell_type": "markdown",
   "metadata": {},
   "source": [
    "Получили DAU = 907.99, WAU = 5716.25, MAU = 23228.42. Скромные цифры для продукта вроде Яндекс.Афиши. Есть куда расти.\n"
   ]
  },
  {
   "cell_type": "markdown",
   "metadata": {},
   "source": [
    "Оценим пользовательскую активность в разрезе устройств, с которых используют продукт. Посмотрим, какие устройства выделены в имеющейся выгрузке."
   ]
  },
  {
   "cell_type": "code",
   "execution_count": 19,
   "metadata": {},
   "outputs": [
    {
     "data": {
      "text/plain": [
       "array(['touch', 'desktop'], dtype=object)"
      ]
     },
     "execution_count": 19,
     "metadata": {},
     "output_type": "execute_result"
    }
   ],
   "source": [
    "visits['device'].unique()"
   ]
  },
  {
   "cell_type": "markdown",
   "metadata": {},
   "source": [
    "В наших данных логи посещений сайта Афиши, поэтому touch - это заход с мобильного браузера."
   ]
  },
  {
   "cell_type": "markdown",
   "metadata": {},
   "source": [
    "Построим график для MAU, так как за период в год это наиболее удобная форма оценки."
   ]
  },
  {
   "cell_type": "code",
   "execution_count": 20,
   "metadata": {},
   "outputs": [
    {
     "data": {
      "text/plain": [
       "<matplotlib.axes._subplots.AxesSubplot at 0x7f7358c814d0>"
      ]
     },
     "execution_count": 20,
     "metadata": {},
     "output_type": "execute_result"
    },
    {
     "data": {
      "image/png": "[encoded data removed]",
      "text/plain": [
       "<Figure size 432x288 with 1 Axes>"
      ]
     },
     "metadata": {
      "needs_background": "light"
     },
     "output_type": "display_data"
    }
   ],
   "source": [
    "visits.query('device == \"touch\"').groupby(['session_year', 'session_month'])['uid'].nunique().plot(kind='bar')\n",
    "visits.query('device == \"desktop\"').groupby(['session_year', 'session_month'])['uid'].nunique().plot(kind='bar',alpha=0.7, \n",
    "                                                                                                     grid=True, legend=True)"
   ]
  },
  {
   "cell_type": "markdown",
   "metadata": {},
   "source": [
    "Месячная аудитория десктопа превышает аудиторию мобильных устройств более чем в 2 раза, и это соотношение примерно сохраняется на протяжении периода. Похоже на правду, так как обычно мобильные версии не так удобны как полноценные либо приложения, но позволяют пользователям решать простейшие задачи. Для обоих типов устройств характерно повышение активности в холодное время года."
   ]
  },
  {
   "cell_type": "markdown",
   "metadata": {},
   "source": [
    "Рассчитаем числовые значения MAU по платформам."
   ]
  },
  {
   "cell_type": "code",
   "execution_count": 21,
   "metadata": {},
   "outputs": [
    {
     "data": {
      "text/plain": [
       "uid    16724.916667\n",
       "dtype: float64"
      ]
     },
     "execution_count": 21,
     "metadata": {},
     "output_type": "execute_result"
    }
   ],
   "source": [
    "mau_desktop = visits.query('device == \"desktop\"').groupby(['session_year', 'session_month']).agg({'uid': 'nunique'}).mean()\n",
    "mau_desktop"
   ]
  },
  {
   "cell_type": "code",
   "execution_count": 22,
   "metadata": {},
   "outputs": [
    {
     "data": {
      "text/plain": [
       "uid    6825.916667\n",
       "dtype: float64"
      ]
     },
     "execution_count": 22,
     "metadata": {},
     "output_type": "execute_result"
    }
   ],
   "source": [
    "mau_touch = visits.query('device == \"touch\"').groupby(['session_year', 'session_month']).agg({'uid': 'nunique'}).mean()\n",
    "mau_touch"
   ]
  },
  {
   "cell_type": "markdown",
   "metadata": {},
   "source": [
    "Разница в месячной аудитории в среднем 2,5 раза."
   ]
  },
  {
   "cell_type": "markdown",
   "metadata": {},
   "source": [
    "### Пользовательская сессия"
   ]
  },
  {
   "cell_type": "markdown",
   "metadata": {},
   "source": [
    "Изучим, сколько сессий в день приходится на одного пользователя."
   ]
  },
  {
   "cell_type": "code",
   "execution_count": 23,
   "metadata": {},
   "outputs": [
    {
     "data": {
      "text/html": [
       "<div>\n",
       "<style scoped>\n",
       "    .dataframe tbody tr th:only-of-type {\n",
       "        vertical-align: middle;\n",
       "    }\n",
       "\n",
       "    .dataframe tbody tr th {\n",
       "        vertical-align: top;\n",
       "    }\n",
       "\n",
       "    .dataframe thead th {\n",
       "        text-align: right;\n",
       "    }\n",
       "</style>\n",
       "<table border=\"1\" class=\"dataframe\">\n",
       "  <thead>\n",
       "    <tr style=\"text-align: right;\">\n",
       "      <th></th>\n",
       "      <th>n_sessions</th>\n",
       "      <th>n_users</th>\n",
       "      <th>sessions_per_user</th>\n",
       "    </tr>\n",
       "    <tr>\n",
       "      <th>session_date</th>\n",
       "      <th></th>\n",
       "      <th></th>\n",
       "      <th></th>\n",
       "    </tr>\n",
       "  </thead>\n",
       "  <tbody>\n",
       "    <tr>\n",
       "      <td>2017-06-01</td>\n",
       "      <td>664</td>\n",
       "      <td>605</td>\n",
       "      <td>1.097521</td>\n",
       "    </tr>\n",
       "    <tr>\n",
       "      <td>2017-06-02</td>\n",
       "      <td>658</td>\n",
       "      <td>608</td>\n",
       "      <td>1.082237</td>\n",
       "    </tr>\n",
       "    <tr>\n",
       "      <td>2017-06-03</td>\n",
       "      <td>477</td>\n",
       "      <td>445</td>\n",
       "      <td>1.071910</td>\n",
       "    </tr>\n",
       "    <tr>\n",
       "      <td>2017-06-04</td>\n",
       "      <td>510</td>\n",
       "      <td>476</td>\n",
       "      <td>1.071429</td>\n",
       "    </tr>\n",
       "    <tr>\n",
       "      <td>2017-06-05</td>\n",
       "      <td>893</td>\n",
       "      <td>820</td>\n",
       "      <td>1.089024</td>\n",
       "    </tr>\n",
       "  </tbody>\n",
       "</table>\n",
       "</div>"
      ],
      "text/plain": [
       "              n_sessions  n_users  sessions_per_user\n",
       "session_date                                        \n",
       "2017-06-01           664      605           1.097521\n",
       "2017-06-02           658      608           1.082237\n",
       "2017-06-03           477      445           1.071910\n",
       "2017-06-04           510      476           1.071429\n",
       "2017-06-05           893      820           1.089024"
      ]
     },
     "execution_count": 23,
     "metadata": {},
     "output_type": "execute_result"
    }
   ],
   "source": [
    "sessions_per_user = visits.groupby('session_date').agg({'uid': ['count','nunique']})\n",
    "sessions_per_user.columns = ['n_sessions', 'n_users']\n",
    "sessions_per_user['sessions_per_user'] = sessions_per_user['n_sessions'] / sessions_per_user['n_users']\n",
    "sessions_per_user.head()"
   ]
  },
  {
   "cell_type": "markdown",
   "metadata": {},
   "source": [
    "Получили данные за каждую дату. Посчитаем среднюю величину."
   ]
  },
  {
   "cell_type": "code",
   "execution_count": 24,
   "metadata": {},
   "outputs": [
    {
     "data": {
      "text/plain": [
       "1.082169644003972"
      ]
     },
     "execution_count": 24,
     "metadata": {},
     "output_type": "execute_result"
    }
   ],
   "source": [
    "sessions_per_user['sessions_per_user'].mean()"
   ]
  },
  {
   "cell_type": "markdown",
   "metadata": {},
   "source": [
    "В среднем пользователи заходят на сайт по по 1 разу в день. В принципе, для покупки билетов на мероприятие пользователю этого достаточно."
   ]
  },
  {
   "cell_type": "markdown",
   "metadata": {},
   "source": [
    "### Средняя продолжительность сессии"
   ]
  },
  {
   "cell_type": "markdown",
   "metadata": {},
   "source": [
    "Рассчитаем среднюю продолжительность сессии. Добавим столбец с длительностью каждой сессии и рассчитаем среднее по нему."
   ]
  },
  {
   "cell_type": "code",
   "execution_count": 25,
   "metadata": {},
   "outputs": [
    {
     "data": {
      "text/plain": [
       "643.506488592098"
      ]
     },
     "execution_count": 25,
     "metadata": {},
     "output_type": "execute_result"
    }
   ],
   "source": [
    "visits['session_duration_sec'] = (visits['end_ts'] - visits['start_ts']).dt.seconds\n",
    "visits['session_duration_sec'].mean()"
   ]
  },
  {
   "cell_type": "markdown",
   "metadata": {},
   "source": [
    "В среднем пользователи проводят на сайте 10 минут. Достаточно для того, чтобы повыбирать, куда сходить."
   ]
  },
  {
   "cell_type": "markdown",
   "metadata": {},
   "source": [
    "Оценим распределение величины."
   ]
  },
  {
   "cell_type": "code",
   "execution_count": 26,
   "metadata": {},
   "outputs": [
    {
     "data": {
      "text/plain": [
       "<matplotlib.axes._subplots.AxesSubplot at 0x7f731b5d4710>"
      ]
     },
     "execution_count": 26,
     "metadata": {},
     "output_type": "execute_result"
    },
    {
     "data": {
      "image/png": "[encoded data removed]",
      "text/plain": [
       "<Figure size 432x288 with 1 Axes>"
      ]
     },
     "metadata": {
      "needs_background": "light"
     },
     "output_type": "display_data"
    }
   ],
   "source": [
    "visits['session_duration_sec'].hist(bins=100)"
   ]
  },
  {
   "cell_type": "markdown",
   "metadata": {},
   "source": [
    "Распределение не похоже на нормальное, поэтому для итоговой оценки воспользуемся модой."
   ]
  },
  {
   "cell_type": "code",
   "execution_count": 27,
   "metadata": {},
   "outputs": [
    {
     "data": {
      "text/plain": [
       "0    60\n",
       "dtype: int64"
      ]
     },
     "execution_count": 27,
     "metadata": {},
     "output_type": "execute_result"
    }
   ],
   "source": [
    "asl = visits['session_duration_sec'].mode()\n",
    "asl"
   ]
  },
  {
   "cell_type": "markdown",
   "metadata": {},
   "source": [
    "А вот за 60 секунд можно успеть купить билет, если выбор уже сделан заранее. Либо можно потыкать мобильную версию сайта и найти кнопку \"скачать приложение\". Рассмотрим среднюю продолжительность сессии в зависимости от платформы. Оценим моду."
   ]
  },
  {
   "cell_type": "code",
   "execution_count": 28,
   "metadata": {},
   "outputs": [
    {
     "data": {
      "text/plain": [
       "0    60\n",
       "dtype: int64"
      ]
     },
     "execution_count": 28,
     "metadata": {},
     "output_type": "execute_result"
    }
   ],
   "source": [
    "asl_touch_mode = visits.query('device == \"touch\"')['session_duration_sec'].mode()\n",
    "asl_touch_mode"
   ]
  },
  {
   "cell_type": "code",
   "execution_count": 29,
   "metadata": {},
   "outputs": [
    {
     "data": {
      "text/plain": [
       "0    60\n",
       "dtype: int64"
      ]
     },
     "execution_count": 29,
     "metadata": {},
     "output_type": "execute_result"
    }
   ],
   "source": [
    "asl_desktop_mode = visits.query('device == \"desktop\"')['session_duration_sec'].mode()\n",
    "asl_desktop_mode"
   ]
  },
  {
   "cell_type": "markdown",
   "metadata": {},
   "source": [
    "Характерная продолжительность сессии в 60 секунд не зависит от платформы. Стоило бы предложить коллегам изучить их детально, например, с помощью тепловой карты кликов.\n",
    "\n",
    "Сравним средние значения длительности сессии - эти параметры скорее всего будут различаться."
   ]
  },
  {
   "cell_type": "code",
   "execution_count": 30,
   "metadata": {},
   "outputs": [
    {
     "data": {
      "text/plain": [
       "7.993656776787528"
      ]
     },
     "execution_count": 30,
     "metadata": {},
     "output_type": "execute_result"
    }
   ],
   "source": [
    "asl_touch = visits.query('device == \"touch\"')['session_duration_sec'].mean() / 60\n",
    "asl_touch"
   ]
  },
  {
   "cell_type": "code",
   "execution_count": 31,
   "metadata": {},
   "outputs": [
    {
     "data": {
      "text/plain": [
       "11.732449622382097"
      ]
     },
     "execution_count": 31,
     "metadata": {},
     "output_type": "execute_result"
    }
   ],
   "source": [
    "asl_desktop = visits.query('device == \"desktop\"')['session_duration_sec'].mean() / 60\n",
    "asl_desktop"
   ]
  },
  {
   "cell_type": "markdown",
   "metadata": {},
   "source": [
    "Пользователи десктопа проводят на сайте больше времени. Предположим, что с большого экрана сайт удобнее.\n",
    "\n"
   ]
  },
  {
   "cell_type": "markdown",
   "metadata": {},
   "source": [
    "### Sticky factor"
   ]
  },
  {
   "cell_type": "markdown",
   "metadata": {},
   "source": [
    "Оценим, как часто пользователи возвращаются в течение недели и в течение месяца."
   ]
  },
  {
   "cell_type": "code",
   "execution_count": 32,
   "metadata": {},
   "outputs": [
    {
     "data": {
      "text/plain": [
       "uid    15.884409\n",
       "dtype: float64"
      ]
     },
     "execution_count": 32,
     "metadata": {},
     "output_type": "execute_result"
    }
   ],
   "source": [
    "sticky_factor_weekly = dau_total / wau_total * 100\n",
    "sticky_factor_weekly"
   ]
  },
  {
   "cell_type": "code",
   "execution_count": 33,
   "metadata": {},
   "outputs": [
    {
     "data": {
      "text/plain": [
       "uid    3.90897\n",
       "dtype: float64"
      ]
     },
     "execution_count": 33,
     "metadata": {},
     "output_type": "execute_result"
    }
   ],
   "source": [
    "sticky_factor_monthly = dau_total / mau_total * 100\n",
    "sticky_factor_monthly"
   ]
  },
  {
   "cell_type": "markdown",
   "metadata": {},
   "source": [
    "15.9% пользователей возвращаются в течение недели и 3.9% - в течение месяца.\n",
    "\n"
   ]
  },
  {
   "cell_type": "markdown",
   "metadata": {},
   "source": [
    "### Вывод\n",
    "\n",
    "Была оценена пользовательская активность:\n",
    "* DAU = 907.99, \n",
    "* WAU = 5716.25, \n",
    "* MAU = 23228.42.\n",
    "\n",
    "Было рассчитано количество сессий в день на пользователя. В среднем это значение составляет 1.08 шт.\n",
    "\n",
    "Была рассчитана средняя продолжительность сессии: ASL = 60 секунд.\n",
    "\n",
    "Было изучено, как часто пользователи возвращаются к продукту:\n",
    "* 15.9% пользователей возвращаются в течение недели,\n",
    "* 3.9% - в течение месяца."
   ]
  },
  {
   "cell_type": "markdown",
   "metadata": {},
   "source": [
    "## Продажи\n",
    "\n",
    "Ответим на следующие вопросы:\n",
    "* Когда люди начинают покупать?\n",
    "* Сколько раз покупают за период?\n",
    "* Какой средний чек?\n",
    "* Сколько денег приносят? (LTV)"
   ]
  },
  {
   "cell_type": "markdown",
   "metadata": {},
   "source": [
    "### Когда людим начинают покупать?\n",
    "\n",
    "Рассчитаем для каждого пользователя дату первой покупки. Будем собирать промежуточные рассчеты в новых датафреймах."
   ]
  },
  {
   "cell_type": "code",
   "execution_count": 34,
   "metadata": {},
   "outputs": [
    {
     "data": {
      "text/html": [
       "<div>\n",
       "<style scoped>\n",
       "    .dataframe tbody tr th:only-of-type {\n",
       "        vertical-align: middle;\n",
       "    }\n",
       "\n",
       "    .dataframe tbody tr th {\n",
       "        vertical-align: top;\n",
       "    }\n",
       "\n",
       "    .dataframe thead th {\n",
       "        text-align: right;\n",
       "    }\n",
       "</style>\n",
       "<table border=\"1\" class=\"dataframe\">\n",
       "  <thead>\n",
       "    <tr style=\"text-align: right;\">\n",
       "      <th></th>\n",
       "      <th>uid</th>\n",
       "      <th>first_buy_ts</th>\n",
       "    </tr>\n",
       "  </thead>\n",
       "  <tbody>\n",
       "    <tr>\n",
       "      <td>0</td>\n",
       "      <td>313578113262317</td>\n",
       "      <td>2018-01-03 21:51:00</td>\n",
       "    </tr>\n",
       "    <tr>\n",
       "      <td>1</td>\n",
       "      <td>1575281904278712</td>\n",
       "      <td>2017-06-03 10:13:00</td>\n",
       "    </tr>\n",
       "    <tr>\n",
       "      <td>2</td>\n",
       "      <td>2429014661409475</td>\n",
       "      <td>2017-10-11 18:33:00</td>\n",
       "    </tr>\n",
       "    <tr>\n",
       "      <td>3</td>\n",
       "      <td>2464366381792757</td>\n",
       "      <td>2018-01-28 15:54:00</td>\n",
       "    </tr>\n",
       "    <tr>\n",
       "      <td>4</td>\n",
       "      <td>2551852515556206</td>\n",
       "      <td>2017-11-24 10:14:00</td>\n",
       "    </tr>\n",
       "  </tbody>\n",
       "</table>\n",
       "</div>"
      ],
      "text/plain": [
       "                uid        first_buy_ts\n",
       "0   313578113262317 2018-01-03 21:51:00\n",
       "1  1575281904278712 2017-06-03 10:13:00\n",
       "2  2429014661409475 2017-10-11 18:33:00\n",
       "3  2464366381792757 2018-01-28 15:54:00\n",
       "4  2551852515556206 2017-11-24 10:14:00"
      ]
     },
     "execution_count": 34,
     "metadata": {},
     "output_type": "execute_result"
    }
   ],
   "source": [
    "first_orders = orders.groupby('uid')['buy_ts'].min().reset_index()\n",
    "first_orders.columns = ['uid', 'first_buy_ts']\n",
    "first_orders.head()"
   ]
  },
  {
   "cell_type": "markdown",
   "metadata": {},
   "source": [
    "Рассчитаем для каждого пользователя дату его первого визита."
   ]
  },
  {
   "cell_type": "code",
   "execution_count": 35,
   "metadata": {},
   "outputs": [
    {
     "data": {
      "text/html": [
       "<div>\n",
       "<style scoped>\n",
       "    .dataframe tbody tr th:only-of-type {\n",
       "        vertical-align: middle;\n",
       "    }\n",
       "\n",
       "    .dataframe tbody tr th {\n",
       "        vertical-align: top;\n",
       "    }\n",
       "\n",
       "    .dataframe thead th {\n",
       "        text-align: right;\n",
       "    }\n",
       "</style>\n",
       "<table border=\"1\" class=\"dataframe\">\n",
       "  <thead>\n",
       "    <tr style=\"text-align: right;\">\n",
       "      <th></th>\n",
       "      <th>uid</th>\n",
       "      <th>first_visit_ts</th>\n",
       "    </tr>\n",
       "  </thead>\n",
       "  <tbody>\n",
       "    <tr>\n",
       "      <td>0</td>\n",
       "      <td>11863502262781</td>\n",
       "      <td>2018-03-01 17:27:00</td>\n",
       "    </tr>\n",
       "    <tr>\n",
       "      <td>1</td>\n",
       "      <td>49537067089222</td>\n",
       "      <td>2018-02-06 15:55:00</td>\n",
       "    </tr>\n",
       "    <tr>\n",
       "      <td>2</td>\n",
       "      <td>297729379853735</td>\n",
       "      <td>2017-06-07 18:47:00</td>\n",
       "    </tr>\n",
       "    <tr>\n",
       "      <td>3</td>\n",
       "      <td>313578113262317</td>\n",
       "      <td>2017-09-18 22:49:00</td>\n",
       "    </tr>\n",
       "    <tr>\n",
       "      <td>4</td>\n",
       "      <td>325320750514679</td>\n",
       "      <td>2017-09-30 14:29:00</td>\n",
       "    </tr>\n",
       "  </tbody>\n",
       "</table>\n",
       "</div>"
      ],
      "text/plain": [
       "               uid      first_visit_ts\n",
       "0   11863502262781 2018-03-01 17:27:00\n",
       "1   49537067089222 2018-02-06 15:55:00\n",
       "2  297729379853735 2017-06-07 18:47:00\n",
       "3  313578113262317 2017-09-18 22:49:00\n",
       "4  325320750514679 2017-09-30 14:29:00"
      ]
     },
     "execution_count": 35,
     "metadata": {},
     "output_type": "execute_result"
    }
   ],
   "source": [
    "first_visits = visits.groupby('uid')['start_ts'].min().reset_index()\n",
    "first_visits.columns = ['uid', 'first_visit_ts']\n",
    "first_visits.head()"
   ]
  },
  {
   "cell_type": "markdown",
   "metadata": {},
   "source": [
    "Соединим таблицы."
   ]
  },
  {
   "cell_type": "code",
   "execution_count": 36,
   "metadata": {},
   "outputs": [
    {
     "data": {
      "text/html": [
       "<div>\n",
       "<style scoped>\n",
       "    .dataframe tbody tr th:only-of-type {\n",
       "        vertical-align: middle;\n",
       "    }\n",
       "\n",
       "    .dataframe tbody tr th {\n",
       "        vertical-align: top;\n",
       "    }\n",
       "\n",
       "    .dataframe thead th {\n",
       "        text-align: right;\n",
       "    }\n",
       "</style>\n",
       "<table border=\"1\" class=\"dataframe\">\n",
       "  <thead>\n",
       "    <tr style=\"text-align: right;\">\n",
       "      <th></th>\n",
       "      <th>uid</th>\n",
       "      <th>first_visit_ts</th>\n",
       "      <th>first_buy_ts</th>\n",
       "    </tr>\n",
       "  </thead>\n",
       "  <tbody>\n",
       "    <tr>\n",
       "      <td>0</td>\n",
       "      <td>313578113262317</td>\n",
       "      <td>2017-09-18 22:49:00</td>\n",
       "      <td>2018-01-03 21:51:00</td>\n",
       "    </tr>\n",
       "    <tr>\n",
       "      <td>1</td>\n",
       "      <td>1575281904278712</td>\n",
       "      <td>2017-06-03 10:13:00</td>\n",
       "      <td>2017-06-03 10:13:00</td>\n",
       "    </tr>\n",
       "    <tr>\n",
       "      <td>2</td>\n",
       "      <td>2429014661409475</td>\n",
       "      <td>2017-10-11 17:14:00</td>\n",
       "      <td>2017-10-11 18:33:00</td>\n",
       "    </tr>\n",
       "    <tr>\n",
       "      <td>3</td>\n",
       "      <td>2464366381792757</td>\n",
       "      <td>2018-01-27 20:10:00</td>\n",
       "      <td>2018-01-28 15:54:00</td>\n",
       "    </tr>\n",
       "    <tr>\n",
       "      <td>4</td>\n",
       "      <td>2551852515556206</td>\n",
       "      <td>2017-11-24 10:14:00</td>\n",
       "      <td>2017-11-24 10:14:00</td>\n",
       "    </tr>\n",
       "  </tbody>\n",
       "</table>\n",
       "</div>"
      ],
      "text/plain": [
       "                uid      first_visit_ts        first_buy_ts\n",
       "0   313578113262317 2017-09-18 22:49:00 2018-01-03 21:51:00\n",
       "1  1575281904278712 2017-06-03 10:13:00 2017-06-03 10:13:00\n",
       "2  2429014661409475 2017-10-11 17:14:00 2017-10-11 18:33:00\n",
       "3  2464366381792757 2018-01-27 20:10:00 2018-01-28 15:54:00\n",
       "4  2551852515556206 2017-11-24 10:14:00 2017-11-24 10:14:00"
      ]
     },
     "execution_count": 36,
     "metadata": {},
     "output_type": "execute_result"
    }
   ],
   "source": [
    "funnel = pd.merge(first_visits, first_orders, on='uid')\n",
    "funnel.head()"
   ]
  },
  {
   "cell_type": "markdown",
   "metadata": {},
   "source": [
    "Рассчитаем разницу между датой первой покупки и датой первого визита."
   ]
  },
  {
   "cell_type": "code",
   "execution_count": 37,
   "metadata": {},
   "outputs": [
    {
     "data": {
      "text/html": [
       "<div>\n",
       "<style scoped>\n",
       "    .dataframe tbody tr th:only-of-type {\n",
       "        vertical-align: middle;\n",
       "    }\n",
       "\n",
       "    .dataframe tbody tr th {\n",
       "        vertical-align: top;\n",
       "    }\n",
       "\n",
       "    .dataframe thead th {\n",
       "        text-align: right;\n",
       "    }\n",
       "</style>\n",
       "<table border=\"1\" class=\"dataframe\">\n",
       "  <thead>\n",
       "    <tr style=\"text-align: right;\">\n",
       "      <th></th>\n",
       "      <th>uid</th>\n",
       "      <th>first_visit_ts</th>\n",
       "      <th>first_buy_ts</th>\n",
       "      <th>delta</th>\n",
       "    </tr>\n",
       "  </thead>\n",
       "  <tbody>\n",
       "    <tr>\n",
       "      <td>0</td>\n",
       "      <td>313578113262317</td>\n",
       "      <td>2017-09-18 22:49:00</td>\n",
       "      <td>2018-01-03 21:51:00</td>\n",
       "      <td>106 days 23:02:00</td>\n",
       "    </tr>\n",
       "    <tr>\n",
       "      <td>1</td>\n",
       "      <td>1575281904278712</td>\n",
       "      <td>2017-06-03 10:13:00</td>\n",
       "      <td>2017-06-03 10:13:00</td>\n",
       "      <td>0 days 00:00:00</td>\n",
       "    </tr>\n",
       "    <tr>\n",
       "      <td>2</td>\n",
       "      <td>2429014661409475</td>\n",
       "      <td>2017-10-11 17:14:00</td>\n",
       "      <td>2017-10-11 18:33:00</td>\n",
       "      <td>0 days 01:19:00</td>\n",
       "    </tr>\n",
       "    <tr>\n",
       "      <td>3</td>\n",
       "      <td>2464366381792757</td>\n",
       "      <td>2018-01-27 20:10:00</td>\n",
       "      <td>2018-01-28 15:54:00</td>\n",
       "      <td>0 days 19:44:00</td>\n",
       "    </tr>\n",
       "    <tr>\n",
       "      <td>4</td>\n",
       "      <td>2551852515556206</td>\n",
       "      <td>2017-11-24 10:14:00</td>\n",
       "      <td>2017-11-24 10:14:00</td>\n",
       "      <td>0 days 00:00:00</td>\n",
       "    </tr>\n",
       "  </tbody>\n",
       "</table>\n",
       "</div>"
      ],
      "text/plain": [
       "                uid      first_visit_ts        first_buy_ts             delta\n",
       "0   313578113262317 2017-09-18 22:49:00 2018-01-03 21:51:00 106 days 23:02:00\n",
       "1  1575281904278712 2017-06-03 10:13:00 2017-06-03 10:13:00   0 days 00:00:00\n",
       "2  2429014661409475 2017-10-11 17:14:00 2017-10-11 18:33:00   0 days 01:19:00\n",
       "3  2464366381792757 2018-01-27 20:10:00 2018-01-28 15:54:00   0 days 19:44:00\n",
       "4  2551852515556206 2017-11-24 10:14:00 2017-11-24 10:14:00   0 days 00:00:00"
      ]
     },
     "execution_count": 37,
     "metadata": {},
     "output_type": "execute_result"
    }
   ],
   "source": [
    "funnel['delta'] = funnel['first_buy_ts'] - funnel['first_visit_ts']\n",
    "funnel.head()"
   ]
  },
  {
   "cell_type": "markdown",
   "metadata": {},
   "source": [
    "Посмотрим на эту величину подробнее."
   ]
  },
  {
   "cell_type": "code",
   "execution_count": 38,
   "metadata": {},
   "outputs": [
    {
     "data": {
      "text/plain": [
       "count                      36523\n",
       "mean     16 days 21:40:10.550064\n",
       "std      47 days 01:44:46.481416\n",
       "min              0 days 00:00:00\n",
       "25%              0 days 00:04:00\n",
       "50%              0 days 00:16:00\n",
       "75%              2 days 00:17:00\n",
       "max            363 days 07:04:00\n",
       "Name: delta, dtype: object"
      ]
     },
     "execution_count": 38,
     "metadata": {},
     "output_type": "execute_result"
    }
   ],
   "source": [
    "funnel['delta'].describe()"
   ]
  },
  {
   "cell_type": "markdown",
   "metadata": {},
   "source": [
    "Примерно половине пользователей удается сделать заказ спустя 16 минут после начала сессии. Таким образом становится понятно, что сессии длиной 60 секунд - слишком короткие, в них скорее всего не совершали заказ.\n",
    "\n"
   ]
  },
  {
   "cell_type": "markdown",
   "metadata": {},
   "source": [
    "### Сколько раз покупают за период?\n",
    "\n",
    "Мы анализируем данные за период с июня 2017 по конец мая 2018 года. Посчитаем, сколько покупок сделал за это время каждый пользователь. "
   ]
  },
  {
   "cell_type": "code",
   "execution_count": 39,
   "metadata": {},
   "outputs": [
    {
     "data": {
      "text/html": [
       "<div>\n",
       "<style scoped>\n",
       "    .dataframe tbody tr th:only-of-type {\n",
       "        vertical-align: middle;\n",
       "    }\n",
       "\n",
       "    .dataframe tbody tr th {\n",
       "        vertical-align: top;\n",
       "    }\n",
       "\n",
       "    .dataframe thead th {\n",
       "        text-align: right;\n",
       "    }\n",
       "</style>\n",
       "<table border=\"1\" class=\"dataframe\">\n",
       "  <thead>\n",
       "    <tr style=\"text-align: right;\">\n",
       "      <th></th>\n",
       "      <th>uid</th>\n",
       "      <th>orders_count</th>\n",
       "    </tr>\n",
       "  </thead>\n",
       "  <tbody>\n",
       "    <tr>\n",
       "      <td>0</td>\n",
       "      <td>313578113262317</td>\n",
       "      <td>1</td>\n",
       "    </tr>\n",
       "    <tr>\n",
       "      <td>1</td>\n",
       "      <td>1575281904278712</td>\n",
       "      <td>2</td>\n",
       "    </tr>\n",
       "    <tr>\n",
       "      <td>2</td>\n",
       "      <td>2429014661409475</td>\n",
       "      <td>1</td>\n",
       "    </tr>\n",
       "    <tr>\n",
       "      <td>3</td>\n",
       "      <td>2464366381792757</td>\n",
       "      <td>1</td>\n",
       "    </tr>\n",
       "    <tr>\n",
       "      <td>4</td>\n",
       "      <td>2551852515556206</td>\n",
       "      <td>2</td>\n",
       "    </tr>\n",
       "  </tbody>\n",
       "</table>\n",
       "</div>"
      ],
      "text/plain": [
       "                uid  orders_count\n",
       "0   313578113262317             1\n",
       "1  1575281904278712             2\n",
       "2  2429014661409475             1\n",
       "3  2464366381792757             1\n",
       "4  2551852515556206             2"
      ]
     },
     "execution_count": 39,
     "metadata": {},
     "output_type": "execute_result"
    }
   ],
   "source": [
    "orders_count = orders.groupby('uid')['buy_ts'].count().reset_index()\n",
    "orders_count.columns = ['uid', 'orders_count']\n",
    "orders_count.head()"
   ]
  },
  {
   "cell_type": "markdown",
   "metadata": {},
   "source": [
    "Добавим эти данные в таблицу funnel."
   ]
  },
  {
   "cell_type": "code",
   "execution_count": 40,
   "metadata": {},
   "outputs": [
    {
     "data": {
      "text/html": [
       "<div>\n",
       "<style scoped>\n",
       "    .dataframe tbody tr th:only-of-type {\n",
       "        vertical-align: middle;\n",
       "    }\n",
       "\n",
       "    .dataframe tbody tr th {\n",
       "        vertical-align: top;\n",
       "    }\n",
       "\n",
       "    .dataframe thead th {\n",
       "        text-align: right;\n",
       "    }\n",
       "</style>\n",
       "<table border=\"1\" class=\"dataframe\">\n",
       "  <thead>\n",
       "    <tr style=\"text-align: right;\">\n",
       "      <th></th>\n",
       "      <th>uid</th>\n",
       "      <th>first_visit_ts</th>\n",
       "      <th>first_buy_ts</th>\n",
       "      <th>delta</th>\n",
       "      <th>orders_count</th>\n",
       "    </tr>\n",
       "  </thead>\n",
       "  <tbody>\n",
       "    <tr>\n",
       "      <td>0</td>\n",
       "      <td>313578113262317</td>\n",
       "      <td>2017-09-18 22:49:00</td>\n",
       "      <td>2018-01-03 21:51:00</td>\n",
       "      <td>106 days 23:02:00</td>\n",
       "      <td>1</td>\n",
       "    </tr>\n",
       "    <tr>\n",
       "      <td>1</td>\n",
       "      <td>1575281904278712</td>\n",
       "      <td>2017-06-03 10:13:00</td>\n",
       "      <td>2017-06-03 10:13:00</td>\n",
       "      <td>0 days 00:00:00</td>\n",
       "      <td>2</td>\n",
       "    </tr>\n",
       "    <tr>\n",
       "      <td>2</td>\n",
       "      <td>2429014661409475</td>\n",
       "      <td>2017-10-11 17:14:00</td>\n",
       "      <td>2017-10-11 18:33:00</td>\n",
       "      <td>0 days 01:19:00</td>\n",
       "      <td>1</td>\n",
       "    </tr>\n",
       "    <tr>\n",
       "      <td>3</td>\n",
       "      <td>2464366381792757</td>\n",
       "      <td>2018-01-27 20:10:00</td>\n",
       "      <td>2018-01-28 15:54:00</td>\n",
       "      <td>0 days 19:44:00</td>\n",
       "      <td>1</td>\n",
       "    </tr>\n",
       "    <tr>\n",
       "      <td>4</td>\n",
       "      <td>2551852515556206</td>\n",
       "      <td>2017-11-24 10:14:00</td>\n",
       "      <td>2017-11-24 10:14:00</td>\n",
       "      <td>0 days 00:00:00</td>\n",
       "      <td>2</td>\n",
       "    </tr>\n",
       "  </tbody>\n",
       "</table>\n",
       "</div>"
      ],
      "text/plain": [
       "                uid      first_visit_ts        first_buy_ts             delta  \\\n",
       "0   313578113262317 2017-09-18 22:49:00 2018-01-03 21:51:00 106 days 23:02:00   \n",
       "1  1575281904278712 2017-06-03 10:13:00 2017-06-03 10:13:00   0 days 00:00:00   \n",
       "2  2429014661409475 2017-10-11 17:14:00 2017-10-11 18:33:00   0 days 01:19:00   \n",
       "3  2464366381792757 2018-01-27 20:10:00 2018-01-28 15:54:00   0 days 19:44:00   \n",
       "4  2551852515556206 2017-11-24 10:14:00 2017-11-24 10:14:00   0 days 00:00:00   \n",
       "\n",
       "   orders_count  \n",
       "0             1  \n",
       "1             2  \n",
       "2             1  \n",
       "3             1  \n",
       "4             2  "
      ]
     },
     "execution_count": 40,
     "metadata": {},
     "output_type": "execute_result"
    }
   ],
   "source": [
    "funnel = funnel.merge(orders_count, on='uid')\n",
    "funnel.head()"
   ]
  },
  {
   "cell_type": "markdown",
   "metadata": {},
   "source": [
    "Посмотрим на статиститики величины orders_count."
   ]
  },
  {
   "cell_type": "code",
   "execution_count": 41,
   "metadata": {},
   "outputs": [
    {
     "data": {
      "text/plain": [
       "count    36523.000000\n",
       "mean         1.380363\n",
       "std          3.454461\n",
       "min          1.000000\n",
       "25%          1.000000\n",
       "50%          1.000000\n",
       "75%          1.000000\n",
       "max        239.000000\n",
       "Name: orders_count, dtype: float64"
      ]
     },
     "execution_count": 41,
     "metadata": {},
     "output_type": "execute_result"
    }
   ],
   "source": [
    "funnel['orders_count'].describe()"
   ]
  },
  {
   "cell_type": "markdown",
   "metadata": {},
   "source": [
    "В большинстве своем пользователи делали по одному заказу за период в год. Возможно, им что-то не понравилось или были сложности с повтороной авторизацией? А пользователь с 239-ю заказами за год скорее всего перекупщик билетов.\n",
    "\n"
   ]
  },
  {
   "cell_type": "markdown",
   "metadata": {},
   "source": [
    "### Средний чек\n",
    "\n",
    "Рассчитаем средний чек по каждому пользователю."
   ]
  },
  {
   "cell_type": "code",
   "execution_count": 42,
   "metadata": {},
   "outputs": [
    {
     "data": {
      "text/html": [
       "<div>\n",
       "<style scoped>\n",
       "    .dataframe tbody tr th:only-of-type {\n",
       "        vertical-align: middle;\n",
       "    }\n",
       "\n",
       "    .dataframe tbody tr th {\n",
       "        vertical-align: top;\n",
       "    }\n",
       "\n",
       "    .dataframe thead th {\n",
       "        text-align: right;\n",
       "    }\n",
       "</style>\n",
       "<table border=\"1\" class=\"dataframe\">\n",
       "  <thead>\n",
       "    <tr style=\"text-align: right;\">\n",
       "      <th></th>\n",
       "      <th>uid</th>\n",
       "      <th>average_check</th>\n",
       "    </tr>\n",
       "  </thead>\n",
       "  <tbody>\n",
       "    <tr>\n",
       "      <td>0</td>\n",
       "      <td>313578113262317</td>\n",
       "      <td>0.550</td>\n",
       "    </tr>\n",
       "    <tr>\n",
       "      <td>1</td>\n",
       "      <td>1575281904278712</td>\n",
       "      <td>1.525</td>\n",
       "    </tr>\n",
       "    <tr>\n",
       "      <td>2</td>\n",
       "      <td>2429014661409475</td>\n",
       "      <td>73.330</td>\n",
       "    </tr>\n",
       "    <tr>\n",
       "      <td>3</td>\n",
       "      <td>2464366381792757</td>\n",
       "      <td>2.440</td>\n",
       "    </tr>\n",
       "    <tr>\n",
       "      <td>4</td>\n",
       "      <td>2551852515556206</td>\n",
       "      <td>5.495</td>\n",
       "    </tr>\n",
       "  </tbody>\n",
       "</table>\n",
       "</div>"
      ],
      "text/plain": [
       "                uid  average_check\n",
       "0   313578113262317          0.550\n",
       "1  1575281904278712          1.525\n",
       "2  2429014661409475         73.330\n",
       "3  2464366381792757          2.440\n",
       "4  2551852515556206          5.495"
      ]
     },
     "execution_count": 42,
     "metadata": {},
     "output_type": "execute_result"
    }
   ],
   "source": [
    "average_check = orders.groupby('uid')['revenue'].mean().reset_index()\n",
    "average_check.columns = ['uid', 'average_check']\n",
    "average_check.head()"
   ]
  },
  {
   "cell_type": "markdown",
   "metadata": {},
   "source": [
    "Добавим средний чек к общему отчету."
   ]
  },
  {
   "cell_type": "code",
   "execution_count": 43,
   "metadata": {},
   "outputs": [
    {
     "data": {
      "text/html": [
       "<div>\n",
       "<style scoped>\n",
       "    .dataframe tbody tr th:only-of-type {\n",
       "        vertical-align: middle;\n",
       "    }\n",
       "\n",
       "    .dataframe tbody tr th {\n",
       "        vertical-align: top;\n",
       "    }\n",
       "\n",
       "    .dataframe thead th {\n",
       "        text-align: right;\n",
       "    }\n",
       "</style>\n",
       "<table border=\"1\" class=\"dataframe\">\n",
       "  <thead>\n",
       "    <tr style=\"text-align: right;\">\n",
       "      <th></th>\n",
       "      <th>uid</th>\n",
       "      <th>first_visit_ts</th>\n",
       "      <th>first_buy_ts</th>\n",
       "      <th>delta</th>\n",
       "      <th>orders_count</th>\n",
       "      <th>average_check</th>\n",
       "    </tr>\n",
       "  </thead>\n",
       "  <tbody>\n",
       "    <tr>\n",
       "      <td>0</td>\n",
       "      <td>313578113262317</td>\n",
       "      <td>2017-09-18 22:49:00</td>\n",
       "      <td>2018-01-03 21:51:00</td>\n",
       "      <td>106 days 23:02:00</td>\n",
       "      <td>1</td>\n",
       "      <td>0.550</td>\n",
       "    </tr>\n",
       "    <tr>\n",
       "      <td>1</td>\n",
       "      <td>1575281904278712</td>\n",
       "      <td>2017-06-03 10:13:00</td>\n",
       "      <td>2017-06-03 10:13:00</td>\n",
       "      <td>0 days 00:00:00</td>\n",
       "      <td>2</td>\n",
       "      <td>1.525</td>\n",
       "    </tr>\n",
       "    <tr>\n",
       "      <td>2</td>\n",
       "      <td>2429014661409475</td>\n",
       "      <td>2017-10-11 17:14:00</td>\n",
       "      <td>2017-10-11 18:33:00</td>\n",
       "      <td>0 days 01:19:00</td>\n",
       "      <td>1</td>\n",
       "      <td>73.330</td>\n",
       "    </tr>\n",
       "    <tr>\n",
       "      <td>3</td>\n",
       "      <td>2464366381792757</td>\n",
       "      <td>2018-01-27 20:10:00</td>\n",
       "      <td>2018-01-28 15:54:00</td>\n",
       "      <td>0 days 19:44:00</td>\n",
       "      <td>1</td>\n",
       "      <td>2.440</td>\n",
       "    </tr>\n",
       "    <tr>\n",
       "      <td>4</td>\n",
       "      <td>2551852515556206</td>\n",
       "      <td>2017-11-24 10:14:00</td>\n",
       "      <td>2017-11-24 10:14:00</td>\n",
       "      <td>0 days 00:00:00</td>\n",
       "      <td>2</td>\n",
       "      <td>5.495</td>\n",
       "    </tr>\n",
       "  </tbody>\n",
       "</table>\n",
       "</div>"
      ],
      "text/plain": [
       "                uid      first_visit_ts        first_buy_ts             delta  \\\n",
       "0   313578113262317 2017-09-18 22:49:00 2018-01-03 21:51:00 106 days 23:02:00   \n",
       "1  1575281904278712 2017-06-03 10:13:00 2017-06-03 10:13:00   0 days 00:00:00   \n",
       "2  2429014661409475 2017-10-11 17:14:00 2017-10-11 18:33:00   0 days 01:19:00   \n",
       "3  2464366381792757 2018-01-27 20:10:00 2018-01-28 15:54:00   0 days 19:44:00   \n",
       "4  2551852515556206 2017-11-24 10:14:00 2017-11-24 10:14:00   0 days 00:00:00   \n",
       "\n",
       "   orders_count  average_check  \n",
       "0             1          0.550  \n",
       "1             2          1.525  \n",
       "2             1         73.330  \n",
       "3             1          2.440  \n",
       "4             2          5.495  "
      ]
     },
     "execution_count": 43,
     "metadata": {},
     "output_type": "execute_result"
    }
   ],
   "source": [
    "funnel = funnel.merge(average_check, on='uid')\n",
    "funnel.head()"
   ]
  },
  {
   "cell_type": "markdown",
   "metadata": {},
   "source": [
    "Посмотрим на распределение величины среднего чека."
   ]
  },
  {
   "cell_type": "code",
   "execution_count": 44,
   "metadata": {},
   "outputs": [
    {
     "data": {
      "text/plain": [
       "count    36523.000000\n",
       "mean         4.093093\n",
       "std          7.671220\n",
       "min          0.000000\n",
       "25%          1.285000\n",
       "50%          2.490000\n",
       "75%          4.890000\n",
       "max        657.466250\n",
       "Name: average_check, dtype: float64"
      ]
     },
     "execution_count": 44,
     "metadata": {},
     "output_type": "execute_result"
    }
   ],
   "source": [
    "funnel['average_check'].describe()"
   ]
  },
  {
   "cell_type": "markdown",
   "metadata": {},
   "source": [
    "В таблице с заказами оказались заказы с нулевой стоимостью. Это похоже на ошибку, о которой стоило бы сообщить разработке. Возможно, там мы узнаем, что это заказы с возвратом либо покрытые одним из сервисов кэшбэка. Тем не менее, пересчитаем статистики за вычетом заказов без стоимости."
   ]
  },
  {
   "cell_type": "code",
   "execution_count": 45,
   "metadata": {},
   "outputs": [
    {
     "data": {
      "text/plain": [
       "count    36509.000000\n",
       "mean         4.094662\n",
       "std          7.672272\n",
       "min          0.030000\n",
       "25%          1.303333\n",
       "50%          2.500000\n",
       "75%          4.890000\n",
       "max        657.466250\n",
       "Name: average_check, dtype: float64"
      ]
     },
     "execution_count": 45,
     "metadata": {},
     "output_type": "execute_result"
    }
   ],
   "source": [
    "funnel[funnel['average_check'] != 0]['average_check'].describe()"
   ]
  },
  {
   "cell_type": "markdown",
   "metadata": {},
   "source": [
    "Среднее и медиана практически не сместились. Медианный средний чек - 2500 рублей (если наше предположение об условных единицах измерения верно). Это больше похоже на билеты на концерт, чем в кино. С одной стороны, это объясняет малое количество покупок в год - на концерты или в театр люди ходят реже, чем в кино. С другой стороны, это повод посмотреть внимательнее на покупку билетов в кино через Яндекс.Афишу как на потенциал к улучшению.\n",
    "\n"
   ]
  },
  {
   "cell_type": "markdown",
   "metadata": {},
   "source": [
    "Сравним средний чек по платформам."
   ]
  },
  {
   "cell_type": "markdown",
   "metadata": {},
   "source": [
    "Объединим таблицы orders и visits, чтобы дальше делать по ним срез."
   ]
  },
  {
   "cell_type": "code",
   "execution_count": 46,
   "metadata": {},
   "outputs": [
    {
     "data": {
      "text/html": [
       "<div>\n",
       "<style scoped>\n",
       "    .dataframe tbody tr th:only-of-type {\n",
       "        vertical-align: middle;\n",
       "    }\n",
       "\n",
       "    .dataframe tbody tr th {\n",
       "        vertical-align: top;\n",
       "    }\n",
       "\n",
       "    .dataframe thead th {\n",
       "        text-align: right;\n",
       "    }\n",
       "</style>\n",
       "<table border=\"1\" class=\"dataframe\">\n",
       "  <thead>\n",
       "    <tr style=\"text-align: right;\">\n",
       "      <th></th>\n",
       "      <th>buy_ts</th>\n",
       "      <th>revenue</th>\n",
       "      <th>uid</th>\n",
       "      <th>device</th>\n",
       "      <th>end_ts</th>\n",
       "      <th>source_id</th>\n",
       "      <th>start_ts</th>\n",
       "      <th>session_year</th>\n",
       "      <th>session_month</th>\n",
       "      <th>session_week</th>\n",
       "      <th>session_date</th>\n",
       "      <th>session_duration_sec</th>\n",
       "    </tr>\n",
       "  </thead>\n",
       "  <tbody>\n",
       "    <tr>\n",
       "      <td>0</td>\n",
       "      <td>2017-06-01 00:10:00</td>\n",
       "      <td>17.00</td>\n",
       "      <td>10329302124590727494</td>\n",
       "      <td>desktop</td>\n",
       "      <td>2017-06-01 00:11:00</td>\n",
       "      <td>1</td>\n",
       "      <td>2017-06-01 00:09:00</td>\n",
       "      <td>2017</td>\n",
       "      <td>6</td>\n",
       "      <td>22</td>\n",
       "      <td>2017-06-01</td>\n",
       "      <td>120</td>\n",
       "    </tr>\n",
       "    <tr>\n",
       "      <td>1</td>\n",
       "      <td>2017-06-01 00:25:00</td>\n",
       "      <td>0.55</td>\n",
       "      <td>11627257723692907447</td>\n",
       "      <td>desktop</td>\n",
       "      <td>2017-06-01 00:25:00</td>\n",
       "      <td>2</td>\n",
       "      <td>2017-06-01 00:14:00</td>\n",
       "      <td>2017</td>\n",
       "      <td>6</td>\n",
       "      <td>22</td>\n",
       "      <td>2017-06-01</td>\n",
       "      <td>660</td>\n",
       "    </tr>\n",
       "    <tr>\n",
       "      <td>2</td>\n",
       "      <td>2017-06-01 00:27:00</td>\n",
       "      <td>0.37</td>\n",
       "      <td>17903680561304213844</td>\n",
       "      <td>desktop</td>\n",
       "      <td>2017-06-01 00:34:00</td>\n",
       "      <td>2</td>\n",
       "      <td>2017-06-01 00:25:00</td>\n",
       "      <td>2017</td>\n",
       "      <td>6</td>\n",
       "      <td>22</td>\n",
       "      <td>2017-06-01</td>\n",
       "      <td>540</td>\n",
       "    </tr>\n",
       "    <tr>\n",
       "      <td>3</td>\n",
       "      <td>2017-06-01 00:29:00</td>\n",
       "      <td>0.55</td>\n",
       "      <td>16109239769442553005</td>\n",
       "      <td>desktop</td>\n",
       "      <td>2017-06-01 00:33:00</td>\n",
       "      <td>2</td>\n",
       "      <td>2017-06-01 00:14:00</td>\n",
       "      <td>2017</td>\n",
       "      <td>6</td>\n",
       "      <td>22</td>\n",
       "      <td>2017-06-01</td>\n",
       "      <td>1140</td>\n",
       "    </tr>\n",
       "    <tr>\n",
       "      <td>4</td>\n",
       "      <td>2017-06-01 07:58:00</td>\n",
       "      <td>0.37</td>\n",
       "      <td>14200605875248379450</td>\n",
       "      <td>desktop</td>\n",
       "      <td>2017-06-01 07:59:00</td>\n",
       "      <td>3</td>\n",
       "      <td>2017-06-01 07:31:00</td>\n",
       "      <td>2017</td>\n",
       "      <td>6</td>\n",
       "      <td>22</td>\n",
       "      <td>2017-06-01</td>\n",
       "      <td>1680</td>\n",
       "    </tr>\n",
       "  </tbody>\n",
       "</table>\n",
       "</div>"
      ],
      "text/plain": [
       "               buy_ts  revenue                   uid   device  \\\n",
       "0 2017-06-01 00:10:00    17.00  10329302124590727494  desktop   \n",
       "1 2017-06-01 00:25:00     0.55  11627257723692907447  desktop   \n",
       "2 2017-06-01 00:27:00     0.37  17903680561304213844  desktop   \n",
       "3 2017-06-01 00:29:00     0.55  16109239769442553005  desktop   \n",
       "4 2017-06-01 07:58:00     0.37  14200605875248379450  desktop   \n",
       "\n",
       "               end_ts  source_id            start_ts  session_year  \\\n",
       "0 2017-06-01 00:11:00          1 2017-06-01 00:09:00          2017   \n",
       "1 2017-06-01 00:25:00          2 2017-06-01 00:14:00          2017   \n",
       "2 2017-06-01 00:34:00          2 2017-06-01 00:25:00          2017   \n",
       "3 2017-06-01 00:33:00          2 2017-06-01 00:14:00          2017   \n",
       "4 2017-06-01 07:59:00          3 2017-06-01 07:31:00          2017   \n",
       "\n",
       "   session_month  session_week session_date  session_duration_sec  \n",
       "0              6            22   2017-06-01                   120  \n",
       "1              6            22   2017-06-01                   660  \n",
       "2              6            22   2017-06-01                   540  \n",
       "3              6            22   2017-06-01                  1140  \n",
       "4              6            22   2017-06-01                  1680  "
      ]
     },
     "execution_count": 46,
     "metadata": {},
     "output_type": "execute_result"
    }
   ],
   "source": [
    "orders_visits = pd.merge(orders, visits, on='uid', how='left')\n",
    "orders_visits.head(5)"
   ]
  },
  {
   "cell_type": "markdown",
   "metadata": {},
   "source": [
    "В полученной таблице только клиенты, то есть пользователи, совершившие покупку. По первым 5 строкам видим, что время заказа приходится между началом и окончанием сессии. Посчитаем общую прибыль по платформам.\n",
    "\n",
    "Десктоп:"
   ]
  },
  {
   "cell_type": "code",
   "execution_count": 47,
   "metadata": {},
   "outputs": [
    {
     "data": {
      "text/plain": [
       "6447893.990000001"
      ]
     },
     "execution_count": 47,
     "metadata": {},
     "output_type": "execute_result"
    }
   ],
   "source": [
    "revenue_total_desktop = orders_visits.query('device == \"desktop\"')['revenue'].sum()\n",
    "revenue_total_desktop"
   ]
  },
  {
   "cell_type": "markdown",
   "metadata": {},
   "source": [
    "Мобильные браузеры:"
   ]
  },
  {
   "cell_type": "code",
   "execution_count": 48,
   "metadata": {},
   "outputs": [
    {
     "data": {
      "text/plain": [
       "514313.36"
      ]
     },
     "execution_count": 48,
     "metadata": {},
     "output_type": "execute_result"
    }
   ],
   "source": [
    "revenue_total_touch = orders_visits.query('device == \"touch\"')['revenue'].sum()\n",
    "revenue_total_touch"
   ]
  },
  {
   "cell_type": "markdown",
   "metadata": {},
   "source": [
    "Общая сумма заказов с декстопных устройств на порядок выше. Сравним средний чек по платформам.\n",
    "\n",
    "Десктоп:"
   ]
  },
  {
   "cell_type": "code",
   "execution_count": 49,
   "metadata": {},
   "outputs": [
    {
     "data": {
      "text/plain": [
       "9.040895004430785"
      ]
     },
     "execution_count": 49,
     "metadata": {},
     "output_type": "execute_result"
    }
   ],
   "source": [
    "average_check_desktop = orders_visits.query('device == \"desktop\"')['revenue'].mean()\n",
    "average_check_desktop"
   ]
  },
  {
   "cell_type": "markdown",
   "metadata": {},
   "source": [
    "Мобилки:"
   ]
  },
  {
   "cell_type": "code",
   "execution_count": 50,
   "metadata": {},
   "outputs": [
    {
     "data": {
      "text/plain": [
       "10.579314203435153"
      ]
     },
     "execution_count": 50,
     "metadata": {},
     "output_type": "execute_result"
    }
   ],
   "source": [
    "average_check_touch = orders_visits.query('device == \"touch\"')['revenue'].mean()\n",
    "average_check_touch"
   ]
  },
  {
   "cell_type": "markdown",
   "metadata": {},
   "source": [
    "Средний чек мобильных устройств незначительно выше, но за счет объема клиентов декстопы дают более чем в 10 раз больше прибыли.\n",
    "\n"
   ]
  },
  {
   "cell_type": "markdown",
   "metadata": {},
   "source": [
    "### Сколько денег приносят? (LTV)"
   ]
  },
  {
   "cell_type": "markdown",
   "metadata": {},
   "source": [
    "Разделим пользователей на когорты по месяцам. Так как часть данных за 2017, а часть за 2018 год, то нам понадобится индексация по месяцу и году. Выделим месяц и год заказа в таблице orders."
   ]
  },
  {
   "cell_type": "code",
   "execution_count": 51,
   "metadata": {},
   "outputs": [
    {
     "data": {
      "text/html": [
       "<div>\n",
       "<style scoped>\n",
       "    .dataframe tbody tr th:only-of-type {\n",
       "        vertical-align: middle;\n",
       "    }\n",
       "\n",
       "    .dataframe tbody tr th {\n",
       "        vertical-align: top;\n",
       "    }\n",
       "\n",
       "    .dataframe thead th {\n",
       "        text-align: right;\n",
       "    }\n",
       "</style>\n",
       "<table border=\"1\" class=\"dataframe\">\n",
       "  <thead>\n",
       "    <tr style=\"text-align: right;\">\n",
       "      <th></th>\n",
       "      <th>buy_ts</th>\n",
       "      <th>revenue</th>\n",
       "      <th>uid</th>\n",
       "      <th>order_month</th>\n",
       "    </tr>\n",
       "  </thead>\n",
       "  <tbody>\n",
       "    <tr>\n",
       "      <td>0</td>\n",
       "      <td>2017-06-01 00:10:00</td>\n",
       "      <td>17.00</td>\n",
       "      <td>10329302124590727494</td>\n",
       "      <td>2017-06</td>\n",
       "    </tr>\n",
       "    <tr>\n",
       "      <td>1</td>\n",
       "      <td>2017-06-01 00:25:00</td>\n",
       "      <td>0.55</td>\n",
       "      <td>11627257723692907447</td>\n",
       "      <td>2017-06</td>\n",
       "    </tr>\n",
       "    <tr>\n",
       "      <td>2</td>\n",
       "      <td>2017-06-01 00:27:00</td>\n",
       "      <td>0.37</td>\n",
       "      <td>17903680561304213844</td>\n",
       "      <td>2017-06</td>\n",
       "    </tr>\n",
       "    <tr>\n",
       "      <td>3</td>\n",
       "      <td>2017-06-01 00:29:00</td>\n",
       "      <td>0.55</td>\n",
       "      <td>16109239769442553005</td>\n",
       "      <td>2017-06</td>\n",
       "    </tr>\n",
       "    <tr>\n",
       "      <td>4</td>\n",
       "      <td>2017-06-01 07:58:00</td>\n",
       "      <td>0.37</td>\n",
       "      <td>14200605875248379450</td>\n",
       "      <td>2017-06</td>\n",
       "    </tr>\n",
       "  </tbody>\n",
       "</table>\n",
       "</div>"
      ],
      "text/plain": [
       "               buy_ts  revenue                   uid order_month\n",
       "0 2017-06-01 00:10:00    17.00  10329302124590727494     2017-06\n",
       "1 2017-06-01 00:25:00     0.55  11627257723692907447     2017-06\n",
       "2 2017-06-01 00:27:00     0.37  17903680561304213844     2017-06\n",
       "3 2017-06-01 00:29:00     0.55  16109239769442553005     2017-06\n",
       "4 2017-06-01 07:58:00     0.37  14200605875248379450     2017-06"
      ]
     },
     "execution_count": 51,
     "metadata": {},
     "output_type": "execute_result"
    }
   ],
   "source": [
    "orders['order_month'] = orders['buy_ts'].dt.strftime('%Y-%m')\n",
    "orders.head()"
   ]
  },
  {
   "cell_type": "markdown",
   "metadata": {},
   "source": [
    "Добавим месяц и год первого заказа в уже имеющуюся таблицу first_orders."
   ]
  },
  {
   "cell_type": "code",
   "execution_count": 52,
   "metadata": {},
   "outputs": [
    {
     "data": {
      "text/html": [
       "<div>\n",
       "<style scoped>\n",
       "    .dataframe tbody tr th:only-of-type {\n",
       "        vertical-align: middle;\n",
       "    }\n",
       "\n",
       "    .dataframe tbody tr th {\n",
       "        vertical-align: top;\n",
       "    }\n",
       "\n",
       "    .dataframe thead th {\n",
       "        text-align: right;\n",
       "    }\n",
       "</style>\n",
       "<table border=\"1\" class=\"dataframe\">\n",
       "  <thead>\n",
       "    <tr style=\"text-align: right;\">\n",
       "      <th></th>\n",
       "      <th>uid</th>\n",
       "      <th>first_buy_ts</th>\n",
       "      <th>first_order_month</th>\n",
       "    </tr>\n",
       "  </thead>\n",
       "  <tbody>\n",
       "    <tr>\n",
       "      <td>0</td>\n",
       "      <td>313578113262317</td>\n",
       "      <td>2018-01-03 21:51:00</td>\n",
       "      <td>2018-01</td>\n",
       "    </tr>\n",
       "    <tr>\n",
       "      <td>1</td>\n",
       "      <td>1575281904278712</td>\n",
       "      <td>2017-06-03 10:13:00</td>\n",
       "      <td>2017-06</td>\n",
       "    </tr>\n",
       "    <tr>\n",
       "      <td>2</td>\n",
       "      <td>2429014661409475</td>\n",
       "      <td>2017-10-11 18:33:00</td>\n",
       "      <td>2017-10</td>\n",
       "    </tr>\n",
       "    <tr>\n",
       "      <td>3</td>\n",
       "      <td>2464366381792757</td>\n",
       "      <td>2018-01-28 15:54:00</td>\n",
       "      <td>2018-01</td>\n",
       "    </tr>\n",
       "    <tr>\n",
       "      <td>4</td>\n",
       "      <td>2551852515556206</td>\n",
       "      <td>2017-11-24 10:14:00</td>\n",
       "      <td>2017-11</td>\n",
       "    </tr>\n",
       "  </tbody>\n",
       "</table>\n",
       "</div>"
      ],
      "text/plain": [
       "                uid        first_buy_ts first_order_month\n",
       "0   313578113262317 2018-01-03 21:51:00           2018-01\n",
       "1  1575281904278712 2017-06-03 10:13:00           2017-06\n",
       "2  2429014661409475 2017-10-11 18:33:00           2017-10\n",
       "3  2464366381792757 2018-01-28 15:54:00           2018-01\n",
       "4  2551852515556206 2017-11-24 10:14:00           2017-11"
      ]
     },
     "execution_count": 52,
     "metadata": {},
     "output_type": "execute_result"
    }
   ],
   "source": [
    "first_orders['first_order_month'] = first_orders['first_buy_ts'].dt.strftime('%Y-%m')\n",
    "first_orders.head()"
   ]
  },
  {
   "cell_type": "markdown",
   "metadata": {},
   "source": [
    "Вычислим, сколько людей совершили покупку впервые в каждом месяце."
   ]
  },
  {
   "cell_type": "code",
   "execution_count": 53,
   "metadata": {},
   "outputs": [
    {
     "data": {
      "text/html": [
       "<div>\n",
       "<style scoped>\n",
       "    .dataframe tbody tr th:only-of-type {\n",
       "        vertical-align: middle;\n",
       "    }\n",
       "\n",
       "    .dataframe tbody tr th {\n",
       "        vertical-align: top;\n",
       "    }\n",
       "\n",
       "    .dataframe thead th {\n",
       "        text-align: right;\n",
       "    }\n",
       "</style>\n",
       "<table border=\"1\" class=\"dataframe\">\n",
       "  <thead>\n",
       "    <tr style=\"text-align: right;\">\n",
       "      <th></th>\n",
       "      <th>first_order_month</th>\n",
       "      <th>n_buyers</th>\n",
       "    </tr>\n",
       "  </thead>\n",
       "  <tbody>\n",
       "    <tr>\n",
       "      <td>0</td>\n",
       "      <td>2017-06</td>\n",
       "      <td>2023</td>\n",
       "    </tr>\n",
       "    <tr>\n",
       "      <td>1</td>\n",
       "      <td>2017-07</td>\n",
       "      <td>1923</td>\n",
       "    </tr>\n",
       "    <tr>\n",
       "      <td>2</td>\n",
       "      <td>2017-08</td>\n",
       "      <td>1370</td>\n",
       "    </tr>\n",
       "    <tr>\n",
       "      <td>3</td>\n",
       "      <td>2017-09</td>\n",
       "      <td>2581</td>\n",
       "    </tr>\n",
       "    <tr>\n",
       "      <td>4</td>\n",
       "      <td>2017-10</td>\n",
       "      <td>4340</td>\n",
       "    </tr>\n",
       "  </tbody>\n",
       "</table>\n",
       "</div>"
      ],
      "text/plain": [
       "  first_order_month  n_buyers\n",
       "0           2017-06      2023\n",
       "1           2017-07      1923\n",
       "2           2017-08      1370\n",
       "3           2017-09      2581\n",
       "4           2017-10      4340"
      ]
     },
     "execution_count": 53,
     "metadata": {},
     "output_type": "execute_result"
    }
   ],
   "source": [
    "cohort_sizes = first_orders.groupby('first_order_month').agg({'uid': 'nunique'}).reset_index()\n",
    "cohort_sizes.columns = ['first_order_month', 'n_buyers']\n",
    "cohort_sizes.head()"
   ]
  },
  {
   "cell_type": "markdown",
   "metadata": {},
   "source": [
    "Объединим данные и построим когортный отчет."
   ]
  },
  {
   "cell_type": "code",
   "execution_count": 54,
   "metadata": {},
   "outputs": [
    {
     "data": {
      "text/html": [
       "<div>\n",
       "<style scoped>\n",
       "    .dataframe tbody tr th:only-of-type {\n",
       "        vertical-align: middle;\n",
       "    }\n",
       "\n",
       "    .dataframe tbody tr th {\n",
       "        vertical-align: top;\n",
       "    }\n",
       "\n",
       "    .dataframe thead th {\n",
       "        text-align: right;\n",
       "    }\n",
       "</style>\n",
       "<table border=\"1\" class=\"dataframe\">\n",
       "  <thead>\n",
       "    <tr style=\"text-align: right;\">\n",
       "      <th></th>\n",
       "      <th>first_order_month</th>\n",
       "      <th>n_buyers</th>\n",
       "      <th>order_month</th>\n",
       "      <th>revenue</th>\n",
       "    </tr>\n",
       "  </thead>\n",
       "  <tbody>\n",
       "    <tr>\n",
       "      <td>0</td>\n",
       "      <td>2017-06</td>\n",
       "      <td>2023</td>\n",
       "      <td>2017-06</td>\n",
       "      <td>9557.49</td>\n",
       "    </tr>\n",
       "    <tr>\n",
       "      <td>1</td>\n",
       "      <td>2017-06</td>\n",
       "      <td>2023</td>\n",
       "      <td>2017-07</td>\n",
       "      <td>981.82</td>\n",
       "    </tr>\n",
       "    <tr>\n",
       "      <td>2</td>\n",
       "      <td>2017-06</td>\n",
       "      <td>2023</td>\n",
       "      <td>2017-08</td>\n",
       "      <td>885.34</td>\n",
       "    </tr>\n",
       "    <tr>\n",
       "      <td>3</td>\n",
       "      <td>2017-06</td>\n",
       "      <td>2023</td>\n",
       "      <td>2017-09</td>\n",
       "      <td>1931.30</td>\n",
       "    </tr>\n",
       "    <tr>\n",
       "      <td>4</td>\n",
       "      <td>2017-06</td>\n",
       "      <td>2023</td>\n",
       "      <td>2017-10</td>\n",
       "      <td>2068.58</td>\n",
       "    </tr>\n",
       "  </tbody>\n",
       "</table>\n",
       "</div>"
      ],
      "text/plain": [
       "  first_order_month  n_buyers order_month  revenue\n",
       "0           2017-06      2023     2017-06  9557.49\n",
       "1           2017-06      2023     2017-07   981.82\n",
       "2           2017-06      2023     2017-08   885.34\n",
       "3           2017-06      2023     2017-09  1931.30\n",
       "4           2017-06      2023     2017-10  2068.58"
      ]
     },
     "execution_count": 54,
     "metadata": {},
     "output_type": "execute_result"
    }
   ],
   "source": [
    "orders_first_month = pd.merge(orders,first_orders, on='uid')\n",
    "cohorts = orders_first_month.groupby(['first_order_month','order_month']).agg({'revenue': 'sum'}).reset_index()\n",
    "report = pd.merge(cohort_sizes, cohorts, on='first_order_month')\n",
    "report.head()"
   ]
  },
  {
   "cell_type": "markdown",
   "metadata": {},
   "source": [
    "Добавим в отчет возраст когорты и LTV."
   ]
  },
  {
   "cell_type": "code",
   "execution_count": 55,
   "metadata": {},
   "outputs": [
    {
     "data": {
      "text/html": [
       "<div>\n",
       "<style scoped>\n",
       "    .dataframe tbody tr th:only-of-type {\n",
       "        vertical-align: middle;\n",
       "    }\n",
       "\n",
       "    .dataframe tbody tr th {\n",
       "        vertical-align: top;\n",
       "    }\n",
       "\n",
       "    .dataframe thead th {\n",
       "        text-align: right;\n",
       "    }\n",
       "</style>\n",
       "<table border=\"1\" class=\"dataframe\">\n",
       "  <thead>\n",
       "    <tr style=\"text-align: right;\">\n",
       "      <th></th>\n",
       "      <th>first_order_month</th>\n",
       "      <th>n_buyers</th>\n",
       "      <th>order_month</th>\n",
       "      <th>revenue</th>\n",
       "      <th>age</th>\n",
       "      <th>ltv</th>\n",
       "    </tr>\n",
       "  </thead>\n",
       "  <tbody>\n",
       "    <tr>\n",
       "      <td>0</td>\n",
       "      <td>2017-06</td>\n",
       "      <td>2023</td>\n",
       "      <td>2017-06</td>\n",
       "      <td>9557.49</td>\n",
       "      <td>0</td>\n",
       "      <td>4.724414</td>\n",
       "    </tr>\n",
       "    <tr>\n",
       "      <td>1</td>\n",
       "      <td>2017-06</td>\n",
       "      <td>2023</td>\n",
       "      <td>2017-07</td>\n",
       "      <td>981.82</td>\n",
       "      <td>1</td>\n",
       "      <td>0.485329</td>\n",
       "    </tr>\n",
       "    <tr>\n",
       "      <td>2</td>\n",
       "      <td>2017-06</td>\n",
       "      <td>2023</td>\n",
       "      <td>2017-08</td>\n",
       "      <td>885.34</td>\n",
       "      <td>2</td>\n",
       "      <td>0.437637</td>\n",
       "    </tr>\n",
       "    <tr>\n",
       "      <td>3</td>\n",
       "      <td>2017-06</td>\n",
       "      <td>2023</td>\n",
       "      <td>2017-09</td>\n",
       "      <td>1931.30</td>\n",
       "      <td>3</td>\n",
       "      <td>0.954671</td>\n",
       "    </tr>\n",
       "    <tr>\n",
       "      <td>4</td>\n",
       "      <td>2017-06</td>\n",
       "      <td>2023</td>\n",
       "      <td>2017-10</td>\n",
       "      <td>2068.58</td>\n",
       "      <td>4</td>\n",
       "      <td>1.022531</td>\n",
       "    </tr>\n",
       "  </tbody>\n",
       "</table>\n",
       "</div>"
      ],
      "text/plain": [
       "  first_order_month  n_buyers order_month  revenue  age       ltv\n",
       "0           2017-06      2023     2017-06  9557.49    0  4.724414\n",
       "1           2017-06      2023     2017-07   981.82    1  0.485329\n",
       "2           2017-06      2023     2017-08   885.34    2  0.437637\n",
       "3           2017-06      2023     2017-09  1931.30    3  0.954671\n",
       "4           2017-06      2023     2017-10  2068.58    4  1.022531"
      ]
     },
     "execution_count": 55,
     "metadata": {},
     "output_type": "execute_result"
    }
   ],
   "source": [
    "report['age'] = (pd.to_datetime(report['order_month']) - pd.to_datetime(report['first_order_month'])) / np.timedelta64(1, 'M')\n",
    "report['age'] = report['age'].round().astype('int')\n",
    "report['ltv'] = report['revenue'] / report['n_buyers']\n",
    "report.head()"
   ]
  },
  {
   "cell_type": "markdown",
   "metadata": {},
   "source": [
    "Выведем на экран сводную таблицу, в строках которой будет месяц когорты, с столбцах — её возраст, а в значениях — средний LTV."
   ]
  },
  {
   "cell_type": "code",
   "execution_count": 56,
   "metadata": {},
   "outputs": [
    {
     "data": {
      "text/html": [
       "<div>\n",
       "<style scoped>\n",
       "    .dataframe tbody tr th:only-of-type {\n",
       "        vertical-align: middle;\n",
       "    }\n",
       "\n",
       "    .dataframe tbody tr th {\n",
       "        vertical-align: top;\n",
       "    }\n",
       "\n",
       "    .dataframe thead th {\n",
       "        text-align: right;\n",
       "    }\n",
       "</style>\n",
       "<table border=\"1\" class=\"dataframe\">\n",
       "  <thead>\n",
       "    <tr style=\"text-align: right;\">\n",
       "      <th>age</th>\n",
       "      <th>0</th>\n",
       "      <th>1</th>\n",
       "      <th>2</th>\n",
       "      <th>3</th>\n",
       "      <th>4</th>\n",
       "      <th>5</th>\n",
       "      <th>6</th>\n",
       "      <th>7</th>\n",
       "      <th>8</th>\n",
       "      <th>9</th>\n",
       "      <th>10</th>\n",
       "      <th>11</th>\n",
       "    </tr>\n",
       "    <tr>\n",
       "      <th>first_order_month</th>\n",
       "      <th></th>\n",
       "      <th></th>\n",
       "      <th></th>\n",
       "      <th></th>\n",
       "      <th></th>\n",
       "      <th></th>\n",
       "      <th></th>\n",
       "      <th></th>\n",
       "      <th></th>\n",
       "      <th></th>\n",
       "      <th></th>\n",
       "      <th></th>\n",
       "    </tr>\n",
       "  </thead>\n",
       "  <tbody>\n",
       "    <tr>\n",
       "      <td>2017-06</td>\n",
       "      <td>4.72</td>\n",
       "      <td>0.49</td>\n",
       "      <td>0.44</td>\n",
       "      <td>0.95</td>\n",
       "      <td>1.02</td>\n",
       "      <td>0.74</td>\n",
       "      <td>0.95</td>\n",
       "      <td>0.58</td>\n",
       "      <td>0.55</td>\n",
       "      <td>0.61</td>\n",
       "      <td>0.57</td>\n",
       "      <td>0.26</td>\n",
       "    </tr>\n",
       "    <tr>\n",
       "      <td>2017-07</td>\n",
       "      <td>6.01</td>\n",
       "      <td>0.34</td>\n",
       "      <td>0.62</td>\n",
       "      <td>0.36</td>\n",
       "      <td>0.18</td>\n",
       "      <td>0.16</td>\n",
       "      <td>0.12</td>\n",
       "      <td>0.14</td>\n",
       "      <td>0.16</td>\n",
       "      <td>0.15</td>\n",
       "      <td>0.16</td>\n",
       "      <td></td>\n",
       "    </tr>\n",
       "    <tr>\n",
       "      <td>2017-08</td>\n",
       "      <td>5.28</td>\n",
       "      <td>0.47</td>\n",
       "      <td>0.46</td>\n",
       "      <td>0.39</td>\n",
       "      <td>0.49</td>\n",
       "      <td>0.28</td>\n",
       "      <td>0.21</td>\n",
       "      <td>0.41</td>\n",
       "      <td>0.29</td>\n",
       "      <td>0.19</td>\n",
       "      <td></td>\n",
       "      <td></td>\n",
       "    </tr>\n",
       "    <tr>\n",
       "      <td>2017-09</td>\n",
       "      <td>5.64</td>\n",
       "      <td>1.12</td>\n",
       "      <td>0.52</td>\n",
       "      <td>3.98</td>\n",
       "      <td>0.4</td>\n",
       "      <td>0.65</td>\n",
       "      <td>0.7</td>\n",
       "      <td>0.24</td>\n",
       "      <td>0.18</td>\n",
       "      <td></td>\n",
       "      <td></td>\n",
       "      <td></td>\n",
       "    </tr>\n",
       "    <tr>\n",
       "      <td>2017-10</td>\n",
       "      <td>5.00</td>\n",
       "      <td>0.54</td>\n",
       "      <td>0.19</td>\n",
       "      <td>0.16</td>\n",
       "      <td>0.15</td>\n",
       "      <td>0.12</td>\n",
       "      <td>0.08</td>\n",
       "      <td>0.12</td>\n",
       "      <td></td>\n",
       "      <td></td>\n",
       "      <td></td>\n",
       "      <td></td>\n",
       "    </tr>\n",
       "    <tr>\n",
       "      <td>2017-11</td>\n",
       "      <td>5.15</td>\n",
       "      <td>0.4</td>\n",
       "      <td>0.2</td>\n",
       "      <td>0.32</td>\n",
       "      <td>0.15</td>\n",
       "      <td>0.05</td>\n",
       "      <td>0.11</td>\n",
       "      <td></td>\n",
       "      <td></td>\n",
       "      <td></td>\n",
       "      <td></td>\n",
       "      <td></td>\n",
       "    </tr>\n",
       "    <tr>\n",
       "      <td>2017-12</td>\n",
       "      <td>4.74</td>\n",
       "      <td>0.26</td>\n",
       "      <td>0.93</td>\n",
       "      <td>1.07</td>\n",
       "      <td>0.31</td>\n",
       "      <td>0.34</td>\n",
       "      <td></td>\n",
       "      <td></td>\n",
       "      <td></td>\n",
       "      <td></td>\n",
       "      <td></td>\n",
       "      <td></td>\n",
       "    </tr>\n",
       "    <tr>\n",
       "      <td>2018-01</td>\n",
       "      <td>4.14</td>\n",
       "      <td>0.29</td>\n",
       "      <td>0.3</td>\n",
       "      <td>0.14</td>\n",
       "      <td>0.06</td>\n",
       "      <td></td>\n",
       "      <td></td>\n",
       "      <td></td>\n",
       "      <td></td>\n",
       "      <td></td>\n",
       "      <td></td>\n",
       "      <td></td>\n",
       "    </tr>\n",
       "    <tr>\n",
       "      <td>2018-02</td>\n",
       "      <td>4.16</td>\n",
       "      <td>0.28</td>\n",
       "      <td>0.08</td>\n",
       "      <td>0.07</td>\n",
       "      <td></td>\n",
       "      <td></td>\n",
       "      <td></td>\n",
       "      <td></td>\n",
       "      <td></td>\n",
       "      <td></td>\n",
       "      <td></td>\n",
       "      <td></td>\n",
       "    </tr>\n",
       "    <tr>\n",
       "      <td>2018-03</td>\n",
       "      <td>4.84</td>\n",
       "      <td>0.3</td>\n",
       "      <td>0.32</td>\n",
       "      <td></td>\n",
       "      <td></td>\n",
       "      <td></td>\n",
       "      <td></td>\n",
       "      <td></td>\n",
       "      <td></td>\n",
       "      <td></td>\n",
       "      <td></td>\n",
       "      <td></td>\n",
       "    </tr>\n",
       "    <tr>\n",
       "      <td>2018-04</td>\n",
       "      <td>4.66</td>\n",
       "      <td>0.53</td>\n",
       "      <td></td>\n",
       "      <td></td>\n",
       "      <td></td>\n",
       "      <td></td>\n",
       "      <td></td>\n",
       "      <td></td>\n",
       "      <td></td>\n",
       "      <td></td>\n",
       "      <td></td>\n",
       "      <td></td>\n",
       "    </tr>\n",
       "    <tr>\n",
       "      <td>2018-05</td>\n",
       "      <td>4.66</td>\n",
       "      <td></td>\n",
       "      <td></td>\n",
       "      <td></td>\n",
       "      <td></td>\n",
       "      <td></td>\n",
       "      <td></td>\n",
       "      <td></td>\n",
       "      <td></td>\n",
       "      <td></td>\n",
       "      <td></td>\n",
       "      <td></td>\n",
       "    </tr>\n",
       "    <tr>\n",
       "      <td>2018-06</td>\n",
       "      <td>3.42</td>\n",
       "      <td></td>\n",
       "      <td></td>\n",
       "      <td></td>\n",
       "      <td></td>\n",
       "      <td></td>\n",
       "      <td></td>\n",
       "      <td></td>\n",
       "      <td></td>\n",
       "      <td></td>\n",
       "      <td></td>\n",
       "      <td></td>\n",
       "    </tr>\n",
       "  </tbody>\n",
       "</table>\n",
       "</div>"
      ],
      "text/plain": [
       "age                  0     1     2     3     4     5     6     7     8     9   \\\n",
       "first_order_month                                                               \n",
       "2017-06            4.72  0.49  0.44  0.95  1.02  0.74  0.95  0.58  0.55  0.61   \n",
       "2017-07            6.01  0.34  0.62  0.36  0.18  0.16  0.12  0.14  0.16  0.15   \n",
       "2017-08            5.28  0.47  0.46  0.39  0.49  0.28  0.21  0.41  0.29  0.19   \n",
       "2017-09            5.64  1.12  0.52  3.98   0.4  0.65   0.7  0.24  0.18         \n",
       "2017-10            5.00  0.54  0.19  0.16  0.15  0.12  0.08  0.12               \n",
       "2017-11            5.15   0.4   0.2  0.32  0.15  0.05  0.11                     \n",
       "2017-12            4.74  0.26  0.93  1.07  0.31  0.34                           \n",
       "2018-01            4.14  0.29   0.3  0.14  0.06                                 \n",
       "2018-02            4.16  0.28  0.08  0.07                                       \n",
       "2018-03            4.84   0.3  0.32                                             \n",
       "2018-04            4.66  0.53                                                   \n",
       "2018-05            4.66                                                         \n",
       "2018-06            3.42                                                         \n",
       "\n",
       "age                  10    11  \n",
       "first_order_month              \n",
       "2017-06            0.57  0.26  \n",
       "2017-07            0.16        \n",
       "2017-08                        \n",
       "2017-09                        \n",
       "2017-10                        \n",
       "2017-11                        \n",
       "2017-12                        \n",
       "2018-01                        \n",
       "2018-02                        \n",
       "2018-03                        \n",
       "2018-04                        \n",
       "2018-05                        \n",
       "2018-06                        "
      ]
     },
     "execution_count": 56,
     "metadata": {},
     "output_type": "execute_result"
    }
   ],
   "source": [
    "result = report.pivot_table(index='first_order_month', \n",
    "                            columns='age', \n",
    "                            values='ltv', \n",
    "                            aggfunc='mean').round(2).fillna('')\n",
    "result"
   ]
  },
  {
   "cell_type": "markdown",
   "metadata": {},
   "source": [
    "В данных, которые заявлены по конец мая, есть одна покупка за июнь.\n",
    "\n",
    "Когорты приносят наиболее количество денег в 0 месяц своей жизни. Это соотносится с тем, что в основном пользователи совершают по 1 покупке за период.\n",
    "\n"
   ]
  },
  {
   "cell_type": "markdown",
   "metadata": {},
   "source": [
    "### Вывод\n",
    "\n",
    "Было проанализировано поведение клиентов Яндек.Афиши за период с июня 2017 по май 2018. \n",
    "\n",
    "Медианный промежуток между первым визитом и первым заказом - 16 минут. Ранее мы выявили, что самая частотная длительность сессии - 60 с. Скорее всего в такие сессии покупки не совершают.\n",
    "\n",
    "Большинство пользователей делали по одному заказу за период в год. \n",
    "\n",
    "Медианный средний чек - 2500 рублей, средний чек - 4090. Такие цифры похожи на билеты в театр или на концерт. Вполне возможно, что средний пользователь покупает такие билеты раз в год.\n",
    "\n",
    "Если смотреть в разрезе когорт, то пользователи приносят наиболее количество денег в 0 месяц lifetime. Это соотносится и с покупкой раз в год, и с величиной среднего чека."
   ]
  },
  {
   "cell_type": "markdown",
   "metadata": {},
   "source": [
    "## Маркетинг\n",
    "\n",
    "Ответим на следующие вопросы.\n",
    "\n",
    "* Сколько денег потратили? Всего / на каждый источник / по времени\n",
    "* Сколько стоило привлечение одного покупателя из каждого источника?\n",
    "* На сколько окупились расходы? (ROI)"
   ]
  },
  {
   "cell_type": "markdown",
   "metadata": {},
   "source": [
    "### Расходы"
   ]
  },
  {
   "cell_type": "markdown",
   "metadata": {},
   "source": [
    "Посчитаем общие раходы за период."
   ]
  },
  {
   "cell_type": "code",
   "execution_count": 57,
   "metadata": {},
   "outputs": [
    {
     "data": {
      "text/plain": [
       "329131.62"
      ]
     },
     "execution_count": 57,
     "metadata": {},
     "output_type": "execute_result"
    }
   ],
   "source": [
    "costs['costs'].sum()"
   ]
  },
  {
   "cell_type": "markdown",
   "metadata": {},
   "source": [
    "Посчитаем расходы на каждый источник и построим визуализацию."
   ]
  },
  {
   "cell_type": "code",
   "execution_count": 58,
   "metadata": {},
   "outputs": [
    {
     "data": {
      "text/plain": [
       "source_id\n",
       "1      20833.27\n",
       "2      42806.04\n",
       "3     141321.63\n",
       "4      61073.60\n",
       "5      51757.10\n",
       "9       5517.49\n",
       "10      5822.49\n",
       "Name: costs, dtype: float64"
      ]
     },
     "execution_count": 58,
     "metadata": {},
     "output_type": "execute_result"
    }
   ],
   "source": [
    "costs_by_source = costs.groupby('source_id')['costs'].sum()\n",
    "costs_by_source"
   ]
  },
  {
   "cell_type": "code",
   "execution_count": 59,
   "metadata": {},
   "outputs": [
    {
     "data": {
      "text/plain": [
       "<matplotlib.axes._subplots.AxesSubplot at 0x7f731b3e2550>"
      ]
     },
     "execution_count": 59,
     "metadata": {},
     "output_type": "execute_result"
    },
    {
     "data": {
      "image/png": "[encoded data removed]",
      "text/plain": [
       "<Figure size 432x432 with 1 Axes>"
      ]
     },
     "metadata": {},
     "output_type": "display_data"
    }
   ],
   "source": [
    "costs_by_source.plot(kind='pie', figsize=(6, 6))"
   ]
  },
  {
   "cell_type": "markdown",
   "metadata": {},
   "source": [
    "Большая часть расходов пошла источник под кодом 3, чем бы это ни было.\n",
    "\n",
    "\n",
    "Посчитаем расходы по месяцам. Для этого выделим месяц в отдельный столбец."
   ]
  },
  {
   "cell_type": "code",
   "execution_count": 60,
   "metadata": {},
   "outputs": [],
   "source": [
    "costs['cost_month'] = costs['cost_ts'].dt.strftime('%Y-%m')"
   ]
  },
  {
   "cell_type": "code",
   "execution_count": 61,
   "metadata": {},
   "outputs": [
    {
     "data": {
      "text/plain": [
       "cost_month\n",
       "2017-06    18015.00\n",
       "2017-07    18240.59\n",
       "2017-08    14790.54\n",
       "2017-09    24368.91\n",
       "2017-10    36322.88\n",
       "2017-11    37907.88\n",
       "2017-12    38315.35\n",
       "2018-01    33518.52\n",
       "2018-02    32723.03\n",
       "2018-03    30415.27\n",
       "2018-04    22289.38\n",
       "2018-05    22224.27\n",
       "Name: costs, dtype: float64"
      ]
     },
     "execution_count": 61,
     "metadata": {},
     "output_type": "execute_result"
    }
   ],
   "source": [
    "costs_by_month = costs.groupby('cost_month')['costs'].sum()\n",
    "costs_by_month"
   ]
  },
  {
   "cell_type": "markdown",
   "metadata": {},
   "source": [
    "Визуализируем."
   ]
  },
  {
   "cell_type": "code",
   "execution_count": 62,
   "metadata": {},
   "outputs": [
    {
     "data": {
      "text/plain": [
       "<matplotlib.axes._subplots.AxesSubplot at 0x7f731adf7710>"
      ]
     },
     "execution_count": 62,
     "metadata": {},
     "output_type": "execute_result"
    },
    {
     "data": {
      "image/png": "[encoded data removed]",
      "text/plain": [
       "<Figure size 432x432 with 1 Axes>"
      ]
     },
     "metadata": {},
     "output_type": "display_data"
    }
   ],
   "source": [
    "costs_by_month.plot(kind='pie', figsize=(6, 6))"
   ]
  },
  {
   "cell_type": "markdown",
   "metadata": {},
   "source": [
    "В условно холодное время года расходы на маркетинг выше. Возможно, в этот период люди не очень хотят выходить из дома, и требуется больше ресурсов, чтобы сподвигнуть их на покупку билета. При этом месячное количество пользователей в эти месяцы также вырастает, что мы уже видели на графике для MAU. Дают ли увеличенные расходы и прирост пользователей результат в виде прибыли, узнаем далее."
   ]
  },
  {
   "cell_type": "markdown",
   "metadata": {},
   "source": [
    "### Стоимость привлечения одного покупателя по каждому источнику\n",
    "\n",
    "Изучим, сколько стоит привлечь одного покупателя из каждого источника. Информация об источнике перехода есть в таблице visits, информация о факте покупки - в таблице orders. Клиент - это пользователь, совершивший покупку, то есть его uid должен быть в таблице orders. За источник привлечения возьмем источник, из которого пользователь начал первую сессию.\n",
    "\n",
    "Используем объединенные таблицы orders и visits, чтобы дальше делать по ним срез. Добавим дату первой сессии."
   ]
  },
  {
   "cell_type": "code",
   "execution_count": 63,
   "metadata": {},
   "outputs": [
    {
     "data": {
      "text/html": [
       "<div>\n",
       "<style scoped>\n",
       "    .dataframe tbody tr th:only-of-type {\n",
       "        vertical-align: middle;\n",
       "    }\n",
       "\n",
       "    .dataframe tbody tr th {\n",
       "        vertical-align: top;\n",
       "    }\n",
       "\n",
       "    .dataframe thead th {\n",
       "        text-align: right;\n",
       "    }\n",
       "</style>\n",
       "<table border=\"1\" class=\"dataframe\">\n",
       "  <thead>\n",
       "    <tr style=\"text-align: right;\">\n",
       "      <th></th>\n",
       "      <th>buy_ts</th>\n",
       "      <th>revenue</th>\n",
       "      <th>uid</th>\n",
       "      <th>device</th>\n",
       "      <th>end_ts</th>\n",
       "      <th>source_id</th>\n",
       "      <th>start_ts</th>\n",
       "      <th>session_year</th>\n",
       "      <th>session_month</th>\n",
       "      <th>session_week</th>\n",
       "      <th>session_date</th>\n",
       "      <th>session_duration_sec</th>\n",
       "      <th>first_visit_ts</th>\n",
       "    </tr>\n",
       "  </thead>\n",
       "  <tbody>\n",
       "    <tr>\n",
       "      <td>0</td>\n",
       "      <td>2017-06-01 00:10:00</td>\n",
       "      <td>17.00</td>\n",
       "      <td>10329302124590727494</td>\n",
       "      <td>desktop</td>\n",
       "      <td>2017-06-01 00:11:00</td>\n",
       "      <td>1</td>\n",
       "      <td>2017-06-01 00:09:00</td>\n",
       "      <td>2017</td>\n",
       "      <td>6</td>\n",
       "      <td>22</td>\n",
       "      <td>2017-06-01</td>\n",
       "      <td>120</td>\n",
       "      <td>2017-06-01 00:09:00</td>\n",
       "    </tr>\n",
       "    <tr>\n",
       "      <td>1</td>\n",
       "      <td>2017-06-01 00:25:00</td>\n",
       "      <td>0.55</td>\n",
       "      <td>11627257723692907447</td>\n",
       "      <td>desktop</td>\n",
       "      <td>2017-06-01 00:25:00</td>\n",
       "      <td>2</td>\n",
       "      <td>2017-06-01 00:14:00</td>\n",
       "      <td>2017</td>\n",
       "      <td>6</td>\n",
       "      <td>22</td>\n",
       "      <td>2017-06-01</td>\n",
       "      <td>660</td>\n",
       "      <td>2017-06-01 00:14:00</td>\n",
       "    </tr>\n",
       "    <tr>\n",
       "      <td>2</td>\n",
       "      <td>2017-06-01 00:27:00</td>\n",
       "      <td>0.37</td>\n",
       "      <td>17903680561304213844</td>\n",
       "      <td>desktop</td>\n",
       "      <td>2017-06-01 00:34:00</td>\n",
       "      <td>2</td>\n",
       "      <td>2017-06-01 00:25:00</td>\n",
       "      <td>2017</td>\n",
       "      <td>6</td>\n",
       "      <td>22</td>\n",
       "      <td>2017-06-01</td>\n",
       "      <td>540</td>\n",
       "      <td>2017-06-01 00:25:00</td>\n",
       "    </tr>\n",
       "    <tr>\n",
       "      <td>3</td>\n",
       "      <td>2017-06-01 00:29:00</td>\n",
       "      <td>0.55</td>\n",
       "      <td>16109239769442553005</td>\n",
       "      <td>desktop</td>\n",
       "      <td>2017-06-01 00:33:00</td>\n",
       "      <td>2</td>\n",
       "      <td>2017-06-01 00:14:00</td>\n",
       "      <td>2017</td>\n",
       "      <td>6</td>\n",
       "      <td>22</td>\n",
       "      <td>2017-06-01</td>\n",
       "      <td>1140</td>\n",
       "      <td>2017-06-01 00:14:00</td>\n",
       "    </tr>\n",
       "    <tr>\n",
       "      <td>4</td>\n",
       "      <td>2017-06-01 07:58:00</td>\n",
       "      <td>0.37</td>\n",
       "      <td>14200605875248379450</td>\n",
       "      <td>desktop</td>\n",
       "      <td>2017-06-01 07:59:00</td>\n",
       "      <td>3</td>\n",
       "      <td>2017-06-01 07:31:00</td>\n",
       "      <td>2017</td>\n",
       "      <td>6</td>\n",
       "      <td>22</td>\n",
       "      <td>2017-06-01</td>\n",
       "      <td>1680</td>\n",
       "      <td>2017-06-01 07:31:00</td>\n",
       "    </tr>\n",
       "  </tbody>\n",
       "</table>\n",
       "</div>"
      ],
      "text/plain": [
       "               buy_ts  revenue                   uid   device  \\\n",
       "0 2017-06-01 00:10:00    17.00  10329302124590727494  desktop   \n",
       "1 2017-06-01 00:25:00     0.55  11627257723692907447  desktop   \n",
       "2 2017-06-01 00:27:00     0.37  17903680561304213844  desktop   \n",
       "3 2017-06-01 00:29:00     0.55  16109239769442553005  desktop   \n",
       "4 2017-06-01 07:58:00     0.37  14200605875248379450  desktop   \n",
       "\n",
       "               end_ts  source_id            start_ts  session_year  \\\n",
       "0 2017-06-01 00:11:00          1 2017-06-01 00:09:00          2017   \n",
       "1 2017-06-01 00:25:00          2 2017-06-01 00:14:00          2017   \n",
       "2 2017-06-01 00:34:00          2 2017-06-01 00:25:00          2017   \n",
       "3 2017-06-01 00:33:00          2 2017-06-01 00:14:00          2017   \n",
       "4 2017-06-01 07:59:00          3 2017-06-01 07:31:00          2017   \n",
       "\n",
       "   session_month  session_week session_date  session_duration_sec  \\\n",
       "0              6            22   2017-06-01                   120   \n",
       "1              6            22   2017-06-01                   660   \n",
       "2              6            22   2017-06-01                   540   \n",
       "3              6            22   2017-06-01                  1140   \n",
       "4              6            22   2017-06-01                  1680   \n",
       "\n",
       "       first_visit_ts  \n",
       "0 2017-06-01 00:09:00  \n",
       "1 2017-06-01 00:14:00  \n",
       "2 2017-06-01 00:25:00  \n",
       "3 2017-06-01 00:14:00  \n",
       "4 2017-06-01 07:31:00  "
      ]
     },
     "execution_count": 63,
     "metadata": {},
     "output_type": "execute_result"
    }
   ],
   "source": [
    "orders_visits = pd.merge(orders_visits, first_visits, on='uid')\n",
    "orders_visits.head()"
   ]
  },
  {
   "cell_type": "markdown",
   "metadata": {},
   "source": [
    "Сделаем срез по условию, что сессия - первая, и посчитаем количество клиентов по каждому источнику."
   ]
  },
  {
   "cell_type": "code",
   "execution_count": 64,
   "metadata": {},
   "outputs": [
    {
     "data": {
      "text/html": [
       "<div>\n",
       "<style scoped>\n",
       "    .dataframe tbody tr th:only-of-type {\n",
       "        vertical-align: middle;\n",
       "    }\n",
       "\n",
       "    .dataframe tbody tr th {\n",
       "        vertical-align: top;\n",
       "    }\n",
       "\n",
       "    .dataframe thead th {\n",
       "        text-align: right;\n",
       "    }\n",
       "</style>\n",
       "<table border=\"1\" class=\"dataframe\">\n",
       "  <thead>\n",
       "    <tr style=\"text-align: right;\">\n",
       "      <th></th>\n",
       "      <th>uid</th>\n",
       "    </tr>\n",
       "    <tr>\n",
       "      <th>source_id</th>\n",
       "      <th></th>\n",
       "    </tr>\n",
       "  </thead>\n",
       "  <tbody>\n",
       "    <tr>\n",
       "      <td>1</td>\n",
       "      <td>2899</td>\n",
       "    </tr>\n",
       "    <tr>\n",
       "      <td>2</td>\n",
       "      <td>3506</td>\n",
       "    </tr>\n",
       "    <tr>\n",
       "      <td>3</td>\n",
       "      <td>10473</td>\n",
       "    </tr>\n",
       "    <tr>\n",
       "      <td>4</td>\n",
       "      <td>10296</td>\n",
       "    </tr>\n",
       "    <tr>\n",
       "      <td>5</td>\n",
       "      <td>6931</td>\n",
       "    </tr>\n",
       "    <tr>\n",
       "      <td>7</td>\n",
       "      <td>1</td>\n",
       "    </tr>\n",
       "    <tr>\n",
       "      <td>9</td>\n",
       "      <td>1088</td>\n",
       "    </tr>\n",
       "    <tr>\n",
       "      <td>10</td>\n",
       "      <td>1329</td>\n",
       "    </tr>\n",
       "  </tbody>\n",
       "</table>\n",
       "</div>"
      ],
      "text/plain": [
       "             uid\n",
       "source_id       \n",
       "1           2899\n",
       "2           3506\n",
       "3          10473\n",
       "4          10296\n",
       "5           6931\n",
       "7              1\n",
       "9           1088\n",
       "10          1329"
      ]
     },
     "execution_count": 64,
     "metadata": {},
     "output_type": "execute_result"
    }
   ],
   "source": [
    "source_cnt = orders_visits.query('start_ts == first_visit_ts').groupby('source_id').agg({'uid': 'nunique'})\n",
    "source_cnt"
   ]
  },
  {
   "cell_type": "markdown",
   "metadata": {},
   "source": [
    "Построим визуализацию."
   ]
  },
  {
   "cell_type": "code",
   "execution_count": 65,
   "metadata": {},
   "outputs": [
    {
     "data": {
      "text/plain": [
       "<matplotlib.axes._subplots.AxesSubplot at 0x7f731ad636d0>"
      ]
     },
     "execution_count": 65,
     "metadata": {},
     "output_type": "execute_result"
    },
    {
     "data": {
      "image/png": "[encoded data removed]",
      "text/plain": [
       "<Figure size 432x432 with 1 Axes>"
      ]
     },
     "metadata": {},
     "output_type": "display_data"
    }
   ],
   "source": [
    "source_cnt['uid'].plot(kind='pie', figsize=(6, 6))"
   ]
  },
  {
   "cell_type": "markdown",
   "metadata": {},
   "source": [
    "Больше всего клиентов пришло из источников 3, 4. Источник 5 тоже неплох. К источнику 7 есть вопросы - с него за год пришел всего 1 клиент. Либо у данного источника большой потенциал к улучшению, либо он появился недавно, либо в отправке статистики баг (что наиболее вероятно)."
   ]
  },
  {
   "cell_type": "markdown",
   "metadata": {},
   "source": [
    "Посчитаем стоимость привлечения одного клиента. Объединим таблицы с расходами на каждый источник и с количеством клиентов по каждому источнику. "
   ]
  },
  {
   "cell_type": "code",
   "execution_count": 66,
   "metadata": {},
   "outputs": [
    {
     "data": {
      "text/html": [
       "<div>\n",
       "<style scoped>\n",
       "    .dataframe tbody tr th:only-of-type {\n",
       "        vertical-align: middle;\n",
       "    }\n",
       "\n",
       "    .dataframe tbody tr th {\n",
       "        vertical-align: top;\n",
       "    }\n",
       "\n",
       "    .dataframe thead th {\n",
       "        text-align: right;\n",
       "    }\n",
       "</style>\n",
       "<table border=\"1\" class=\"dataframe\">\n",
       "  <thead>\n",
       "    <tr style=\"text-align: right;\">\n",
       "      <th></th>\n",
       "      <th>source_id</th>\n",
       "      <th>n_buyers</th>\n",
       "      <th>costs</th>\n",
       "    </tr>\n",
       "  </thead>\n",
       "  <tbody>\n",
       "    <tr>\n",
       "      <td>0</td>\n",
       "      <td>1</td>\n",
       "      <td>2899</td>\n",
       "      <td>20833.27</td>\n",
       "    </tr>\n",
       "    <tr>\n",
       "      <td>1</td>\n",
       "      <td>2</td>\n",
       "      <td>3506</td>\n",
       "      <td>42806.04</td>\n",
       "    </tr>\n",
       "    <tr>\n",
       "      <td>2</td>\n",
       "      <td>3</td>\n",
       "      <td>10473</td>\n",
       "      <td>141321.63</td>\n",
       "    </tr>\n",
       "    <tr>\n",
       "      <td>3</td>\n",
       "      <td>4</td>\n",
       "      <td>10296</td>\n",
       "      <td>61073.60</td>\n",
       "    </tr>\n",
       "    <tr>\n",
       "      <td>4</td>\n",
       "      <td>5</td>\n",
       "      <td>6931</td>\n",
       "      <td>51757.10</td>\n",
       "    </tr>\n",
       "    <tr>\n",
       "      <td>5</td>\n",
       "      <td>9</td>\n",
       "      <td>1088</td>\n",
       "      <td>5517.49</td>\n",
       "    </tr>\n",
       "    <tr>\n",
       "      <td>6</td>\n",
       "      <td>10</td>\n",
       "      <td>1329</td>\n",
       "      <td>5822.49</td>\n",
       "    </tr>\n",
       "  </tbody>\n",
       "</table>\n",
       "</div>"
      ],
      "text/plain": [
       "   source_id  n_buyers      costs\n",
       "0          1      2899   20833.27\n",
       "1          2      3506   42806.04\n",
       "2          3     10473  141321.63\n",
       "3          4     10296   61073.60\n",
       "4          5      6931   51757.10\n",
       "5          9      1088    5517.49\n",
       "6         10      1329    5822.49"
      ]
     },
     "execution_count": 66,
     "metadata": {},
     "output_type": "execute_result"
    }
   ],
   "source": [
    "cost_per_client = pd.merge(source_cnt, costs_by_source, on='source_id').reset_index()\n",
    "cost_per_client.columns = ['source_id', 'n_buyers', 'costs']\n",
    "cost_per_client"
   ]
  },
  {
   "cell_type": "markdown",
   "metadata": {},
   "source": [
    "Рассчитаем стоимость привлечения одного клиента."
   ]
  },
  {
   "cell_type": "code",
   "execution_count": 67,
   "metadata": {},
   "outputs": [
    {
     "data": {
      "text/html": [
       "<div>\n",
       "<style scoped>\n",
       "    .dataframe tbody tr th:only-of-type {\n",
       "        vertical-align: middle;\n",
       "    }\n",
       "\n",
       "    .dataframe tbody tr th {\n",
       "        vertical-align: top;\n",
       "    }\n",
       "\n",
       "    .dataframe thead th {\n",
       "        text-align: right;\n",
       "    }\n",
       "</style>\n",
       "<table border=\"1\" class=\"dataframe\">\n",
       "  <thead>\n",
       "    <tr style=\"text-align: right;\">\n",
       "      <th></th>\n",
       "      <th>source_id</th>\n",
       "      <th>n_buyers</th>\n",
       "      <th>costs</th>\n",
       "      <th>cost_per_client</th>\n",
       "    </tr>\n",
       "  </thead>\n",
       "  <tbody>\n",
       "    <tr>\n",
       "      <td>0</td>\n",
       "      <td>1</td>\n",
       "      <td>2899</td>\n",
       "      <td>20833.27</td>\n",
       "      <td>7.186364</td>\n",
       "    </tr>\n",
       "    <tr>\n",
       "      <td>1</td>\n",
       "      <td>2</td>\n",
       "      <td>3506</td>\n",
       "      <td>42806.04</td>\n",
       "      <td>12.209367</td>\n",
       "    </tr>\n",
       "    <tr>\n",
       "      <td>2</td>\n",
       "      <td>3</td>\n",
       "      <td>10473</td>\n",
       "      <td>141321.63</td>\n",
       "      <td>13.493901</td>\n",
       "    </tr>\n",
       "    <tr>\n",
       "      <td>3</td>\n",
       "      <td>4</td>\n",
       "      <td>10296</td>\n",
       "      <td>61073.60</td>\n",
       "      <td>5.931779</td>\n",
       "    </tr>\n",
       "    <tr>\n",
       "      <td>4</td>\n",
       "      <td>5</td>\n",
       "      <td>6931</td>\n",
       "      <td>51757.10</td>\n",
       "      <td>7.467479</td>\n",
       "    </tr>\n",
       "    <tr>\n",
       "      <td>5</td>\n",
       "      <td>9</td>\n",
       "      <td>1088</td>\n",
       "      <td>5517.49</td>\n",
       "      <td>5.071222</td>\n",
       "    </tr>\n",
       "    <tr>\n",
       "      <td>6</td>\n",
       "      <td>10</td>\n",
       "      <td>1329</td>\n",
       "      <td>5822.49</td>\n",
       "      <td>4.381106</td>\n",
       "    </tr>\n",
       "  </tbody>\n",
       "</table>\n",
       "</div>"
      ],
      "text/plain": [
       "   source_id  n_buyers      costs  cost_per_client\n",
       "0          1      2899   20833.27         7.186364\n",
       "1          2      3506   42806.04        12.209367\n",
       "2          3     10473  141321.63        13.493901\n",
       "3          4     10296   61073.60         5.931779\n",
       "4          5      6931   51757.10         7.467479\n",
       "5          9      1088    5517.49         5.071222\n",
       "6         10      1329    5822.49         4.381106"
      ]
     },
     "execution_count": 67,
     "metadata": {},
     "output_type": "execute_result"
    }
   ],
   "source": [
    "cost_per_client['cost_per_client'] = cost_per_client['costs'] / cost_per_client['n_buyers']\n",
    "cost_per_client"
   ]
  },
  {
   "cell_type": "markdown",
   "metadata": {},
   "source": [
    "Оценим разницу на графике."
   ]
  },
  {
   "cell_type": "code",
   "execution_count": 68,
   "metadata": {},
   "outputs": [
    {
     "data": {
      "text/plain": [
       "<matplotlib.axes._subplots.AxesSubplot at 0x7f731b10b510>"
      ]
     },
     "execution_count": 68,
     "metadata": {},
     "output_type": "execute_result"
    },
    {
     "data": {
      "image/png": "[encoded data removed]",
      "text/plain": [
       "<Figure size 432x288 with 1 Axes>"
      ]
     },
     "metadata": {
      "needs_background": "light"
     },
     "output_type": "display_data"
    }
   ],
   "source": [
    "cost_per_client.plot(kind='bar', x='source_id', y='cost_per_client', grid=True, figsize=(6, 4))"
   ]
  },
  {
   "cell_type": "markdown",
   "metadata": {},
   "source": [
    "Источник 3 оказался еще и самым дорогим. А вот источник 4 приносит много клиентов, но стоимость привлечения каждого гораздо ниже. Кстати, на источник 7 ничего не потратили. В дальнейшем оценим окупаемость каждого источника.\n",
    "\n"
   ]
  },
  {
   "cell_type": "markdown",
   "metadata": {},
   "source": [
    "### На сколько окупились расходы? (ROI)\n",
    "\n",
    "Посчитаем ROI за весь период."
   ]
  },
  {
   "cell_type": "code",
   "execution_count": 69,
   "metadata": {},
   "outputs": [
    {
     "data": {
      "text/plain": [
       "0.7658249304639888"
      ]
     },
     "execution_count": 69,
     "metadata": {},
     "output_type": "execute_result"
    }
   ],
   "source": [
    "roi_total = orders['revenue'].sum() / costs['costs'].sum()\n",
    "roi_total"
   ]
  },
  {
   "cell_type": "markdown",
   "metadata": {},
   "source": [
    "Похоже, на маркетинг продукт тратит больше, чем зарабатывает."
   ]
  },
  {
   "cell_type": "markdown",
   "metadata": {},
   "source": [
    "Оценим ROI в динамике по когортам. Присоединим к отчету траты в месяц."
   ]
  },
  {
   "cell_type": "code",
   "execution_count": 70,
   "metadata": {},
   "outputs": [
    {
     "data": {
      "text/html": [
       "<div>\n",
       "<style scoped>\n",
       "    .dataframe tbody tr th:only-of-type {\n",
       "        vertical-align: middle;\n",
       "    }\n",
       "\n",
       "    .dataframe tbody tr th {\n",
       "        vertical-align: top;\n",
       "    }\n",
       "\n",
       "    .dataframe thead th {\n",
       "        text-align: right;\n",
       "    }\n",
       "</style>\n",
       "<table border=\"1\" class=\"dataframe\">\n",
       "  <thead>\n",
       "    <tr style=\"text-align: right;\">\n",
       "      <th></th>\n",
       "      <th>first_order_month</th>\n",
       "      <th>n_buyers</th>\n",
       "      <th>order_month</th>\n",
       "      <th>revenue</th>\n",
       "      <th>age</th>\n",
       "      <th>ltv</th>\n",
       "      <th>costs</th>\n",
       "    </tr>\n",
       "  </thead>\n",
       "  <tbody>\n",
       "    <tr>\n",
       "      <td>0</td>\n",
       "      <td>2017-06</td>\n",
       "      <td>2023</td>\n",
       "      <td>2017-06</td>\n",
       "      <td>9557.49</td>\n",
       "      <td>0</td>\n",
       "      <td>4.724414</td>\n",
       "      <td>18015.0</td>\n",
       "    </tr>\n",
       "    <tr>\n",
       "      <td>1</td>\n",
       "      <td>2017-06</td>\n",
       "      <td>2023</td>\n",
       "      <td>2017-07</td>\n",
       "      <td>981.82</td>\n",
       "      <td>1</td>\n",
       "      <td>0.485329</td>\n",
       "      <td>18015.0</td>\n",
       "    </tr>\n",
       "    <tr>\n",
       "      <td>2</td>\n",
       "      <td>2017-06</td>\n",
       "      <td>2023</td>\n",
       "      <td>2017-08</td>\n",
       "      <td>885.34</td>\n",
       "      <td>2</td>\n",
       "      <td>0.437637</td>\n",
       "      <td>18015.0</td>\n",
       "    </tr>\n",
       "    <tr>\n",
       "      <td>3</td>\n",
       "      <td>2017-06</td>\n",
       "      <td>2023</td>\n",
       "      <td>2017-09</td>\n",
       "      <td>1931.30</td>\n",
       "      <td>3</td>\n",
       "      <td>0.954671</td>\n",
       "      <td>18015.0</td>\n",
       "    </tr>\n",
       "    <tr>\n",
       "      <td>4</td>\n",
       "      <td>2017-06</td>\n",
       "      <td>2023</td>\n",
       "      <td>2017-10</td>\n",
       "      <td>2068.58</td>\n",
       "      <td>4</td>\n",
       "      <td>1.022531</td>\n",
       "      <td>18015.0</td>\n",
       "    </tr>\n",
       "  </tbody>\n",
       "</table>\n",
       "</div>"
      ],
      "text/plain": [
       "  first_order_month  n_buyers order_month  revenue  age       ltv    costs\n",
       "0           2017-06      2023     2017-06  9557.49    0  4.724414  18015.0\n",
       "1           2017-06      2023     2017-07   981.82    1  0.485329  18015.0\n",
       "2           2017-06      2023     2017-08   885.34    2  0.437637  18015.0\n",
       "3           2017-06      2023     2017-09  1931.30    3  0.954671  18015.0\n",
       "4           2017-06      2023     2017-10  2068.58    4  1.022531  18015.0"
      ]
     },
     "execution_count": 70,
     "metadata": {},
     "output_type": "execute_result"
    }
   ],
   "source": [
    "report_new = pd.merge(report, costs_by_month, left_on='first_order_month', right_on='cost_month')\n",
    "report_new.head()"
   ]
  },
  {
   "cell_type": "markdown",
   "metadata": {},
   "source": [
    "Рассчитаем стоимость привлечения одного клиента и ROI."
   ]
  },
  {
   "cell_type": "code",
   "execution_count": 71,
   "metadata": {},
   "outputs": [
    {
     "data": {
      "text/html": [
       "<div>\n",
       "<style scoped>\n",
       "    .dataframe tbody tr th:only-of-type {\n",
       "        vertical-align: middle;\n",
       "    }\n",
       "\n",
       "    .dataframe tbody tr th {\n",
       "        vertical-align: top;\n",
       "    }\n",
       "\n",
       "    .dataframe thead th {\n",
       "        text-align: right;\n",
       "    }\n",
       "</style>\n",
       "<table border=\"1\" class=\"dataframe\">\n",
       "  <thead>\n",
       "    <tr style=\"text-align: right;\">\n",
       "      <th></th>\n",
       "      <th>first_order_month</th>\n",
       "      <th>n_buyers</th>\n",
       "      <th>order_month</th>\n",
       "      <th>revenue</th>\n",
       "      <th>age</th>\n",
       "      <th>ltv</th>\n",
       "      <th>costs</th>\n",
       "      <th>cac</th>\n",
       "      <th>roi</th>\n",
       "    </tr>\n",
       "  </thead>\n",
       "  <tbody>\n",
       "    <tr>\n",
       "      <td>0</td>\n",
       "      <td>2017-06</td>\n",
       "      <td>2023</td>\n",
       "      <td>2017-06</td>\n",
       "      <td>9557.49</td>\n",
       "      <td>0</td>\n",
       "      <td>4.724414</td>\n",
       "      <td>18015.0</td>\n",
       "      <td>8.905091</td>\n",
       "      <td>0.530530</td>\n",
       "    </tr>\n",
       "    <tr>\n",
       "      <td>1</td>\n",
       "      <td>2017-06</td>\n",
       "      <td>2023</td>\n",
       "      <td>2017-07</td>\n",
       "      <td>981.82</td>\n",
       "      <td>1</td>\n",
       "      <td>0.485329</td>\n",
       "      <td>18015.0</td>\n",
       "      <td>8.905091</td>\n",
       "      <td>0.054500</td>\n",
       "    </tr>\n",
       "    <tr>\n",
       "      <td>2</td>\n",
       "      <td>2017-06</td>\n",
       "      <td>2023</td>\n",
       "      <td>2017-08</td>\n",
       "      <td>885.34</td>\n",
       "      <td>2</td>\n",
       "      <td>0.437637</td>\n",
       "      <td>18015.0</td>\n",
       "      <td>8.905091</td>\n",
       "      <td>0.049145</td>\n",
       "    </tr>\n",
       "    <tr>\n",
       "      <td>3</td>\n",
       "      <td>2017-06</td>\n",
       "      <td>2023</td>\n",
       "      <td>2017-09</td>\n",
       "      <td>1931.30</td>\n",
       "      <td>3</td>\n",
       "      <td>0.954671</td>\n",
       "      <td>18015.0</td>\n",
       "      <td>8.905091</td>\n",
       "      <td>0.107205</td>\n",
       "    </tr>\n",
       "    <tr>\n",
       "      <td>4</td>\n",
       "      <td>2017-06</td>\n",
       "      <td>2023</td>\n",
       "      <td>2017-10</td>\n",
       "      <td>2068.58</td>\n",
       "      <td>4</td>\n",
       "      <td>1.022531</td>\n",
       "      <td>18015.0</td>\n",
       "      <td>8.905091</td>\n",
       "      <td>0.114825</td>\n",
       "    </tr>\n",
       "  </tbody>\n",
       "</table>\n",
       "</div>"
      ],
      "text/plain": [
       "  first_order_month  n_buyers order_month  revenue  age       ltv    costs  \\\n",
       "0           2017-06      2023     2017-06  9557.49    0  4.724414  18015.0   \n",
       "1           2017-06      2023     2017-07   981.82    1  0.485329  18015.0   \n",
       "2           2017-06      2023     2017-08   885.34    2  0.437637  18015.0   \n",
       "3           2017-06      2023     2017-09  1931.30    3  0.954671  18015.0   \n",
       "4           2017-06      2023     2017-10  2068.58    4  1.022531  18015.0   \n",
       "\n",
       "        cac       roi  \n",
       "0  8.905091  0.530530  \n",
       "1  8.905091  0.054500  \n",
       "2  8.905091  0.049145  \n",
       "3  8.905091  0.107205  \n",
       "4  8.905091  0.114825  "
      ]
     },
     "execution_count": 71,
     "metadata": {},
     "output_type": "execute_result"
    }
   ],
   "source": [
    "report_new['cac'] = report_new['costs'] / report_new['n_buyers']\n",
    "report_new['roi'] = report_new['ltv'] / report_new['cac']\n",
    "report_new.head()"
   ]
  },
  {
   "cell_type": "markdown",
   "metadata": {},
   "source": [
    "Построим отчет."
   ]
  },
  {
   "cell_type": "code",
   "execution_count": 72,
   "metadata": {},
   "outputs": [
    {
     "data": {
      "text/html": [
       "<div>\n",
       "<style scoped>\n",
       "    .dataframe tbody tr th:only-of-type {\n",
       "        vertical-align: middle;\n",
       "    }\n",
       "\n",
       "    .dataframe tbody tr th {\n",
       "        vertical-align: top;\n",
       "    }\n",
       "\n",
       "    .dataframe thead th {\n",
       "        text-align: right;\n",
       "    }\n",
       "</style>\n",
       "<table border=\"1\" class=\"dataframe\">\n",
       "  <thead>\n",
       "    <tr style=\"text-align: right;\">\n",
       "      <th>age</th>\n",
       "      <th>0</th>\n",
       "      <th>1</th>\n",
       "      <th>2</th>\n",
       "      <th>3</th>\n",
       "      <th>4</th>\n",
       "      <th>5</th>\n",
       "      <th>6</th>\n",
       "      <th>7</th>\n",
       "      <th>8</th>\n",
       "      <th>9</th>\n",
       "      <th>10</th>\n",
       "      <th>11</th>\n",
       "    </tr>\n",
       "    <tr>\n",
       "      <th>first_order_month</th>\n",
       "      <th></th>\n",
       "      <th></th>\n",
       "      <th></th>\n",
       "      <th></th>\n",
       "      <th></th>\n",
       "      <th></th>\n",
       "      <th></th>\n",
       "      <th></th>\n",
       "      <th></th>\n",
       "      <th></th>\n",
       "      <th></th>\n",
       "      <th></th>\n",
       "    </tr>\n",
       "  </thead>\n",
       "  <tbody>\n",
       "    <tr>\n",
       "      <td>2017-06</td>\n",
       "      <td>0.53</td>\n",
       "      <td>0.59</td>\n",
       "      <td>0.63</td>\n",
       "      <td>0.74</td>\n",
       "      <td>0.86</td>\n",
       "      <td>0.94</td>\n",
       "      <td>1.05</td>\n",
       "      <td>1.11</td>\n",
       "      <td>1.17</td>\n",
       "      <td>1.24</td>\n",
       "      <td>1.31</td>\n",
       "      <td>1.33</td>\n",
       "    </tr>\n",
       "    <tr>\n",
       "      <td>2017-07</td>\n",
       "      <td>0.63</td>\n",
       "      <td>0.67</td>\n",
       "      <td>0.73</td>\n",
       "      <td>0.77</td>\n",
       "      <td>0.79</td>\n",
       "      <td>0.81</td>\n",
       "      <td>0.82</td>\n",
       "      <td>0.84</td>\n",
       "      <td>0.85</td>\n",
       "      <td>0.87</td>\n",
       "      <td>0.88</td>\n",
       "      <td></td>\n",
       "    </tr>\n",
       "    <tr>\n",
       "      <td>2017-08</td>\n",
       "      <td>0.49</td>\n",
       "      <td>0.53</td>\n",
       "      <td>0.57</td>\n",
       "      <td>0.61</td>\n",
       "      <td>0.66</td>\n",
       "      <td>0.68</td>\n",
       "      <td>0.7</td>\n",
       "      <td>0.74</td>\n",
       "      <td>0.77</td>\n",
       "      <td>0.78</td>\n",
       "      <td></td>\n",
       "      <td></td>\n",
       "    </tr>\n",
       "    <tr>\n",
       "      <td>2017-09</td>\n",
       "      <td>0.60</td>\n",
       "      <td>0.72</td>\n",
       "      <td>0.77</td>\n",
       "      <td>1.19</td>\n",
       "      <td>1.23</td>\n",
       "      <td>1.3</td>\n",
       "      <td>1.38</td>\n",
       "      <td>1.4</td>\n",
       "      <td>1.42</td>\n",
       "      <td></td>\n",
       "      <td></td>\n",
       "      <td></td>\n",
       "    </tr>\n",
       "    <tr>\n",
       "      <td>2017-10</td>\n",
       "      <td>0.60</td>\n",
       "      <td>0.66</td>\n",
       "      <td>0.68</td>\n",
       "      <td>0.7</td>\n",
       "      <td>0.72</td>\n",
       "      <td>0.74</td>\n",
       "      <td>0.75</td>\n",
       "      <td>0.76</td>\n",
       "      <td></td>\n",
       "      <td></td>\n",
       "      <td></td>\n",
       "      <td></td>\n",
       "    </tr>\n",
       "    <tr>\n",
       "      <td>2017-11</td>\n",
       "      <td>0.55</td>\n",
       "      <td>0.6</td>\n",
       "      <td>0.62</td>\n",
       "      <td>0.65</td>\n",
       "      <td>0.67</td>\n",
       "      <td>0.68</td>\n",
       "      <td>0.69</td>\n",
       "      <td></td>\n",
       "      <td></td>\n",
       "      <td></td>\n",
       "      <td></td>\n",
       "      <td></td>\n",
       "    </tr>\n",
       "    <tr>\n",
       "      <td>2017-12</td>\n",
       "      <td>0.54</td>\n",
       "      <td>0.57</td>\n",
       "      <td>0.68</td>\n",
       "      <td>0.8</td>\n",
       "      <td>0.84</td>\n",
       "      <td>0.87</td>\n",
       "      <td></td>\n",
       "      <td></td>\n",
       "      <td></td>\n",
       "      <td></td>\n",
       "      <td></td>\n",
       "      <td></td>\n",
       "    </tr>\n",
       "    <tr>\n",
       "      <td>2018-01</td>\n",
       "      <td>0.42</td>\n",
       "      <td>0.45</td>\n",
       "      <td>0.48</td>\n",
       "      <td>0.49</td>\n",
       "      <td>0.5</td>\n",
       "      <td></td>\n",
       "      <td></td>\n",
       "      <td></td>\n",
       "      <td></td>\n",
       "      <td></td>\n",
       "      <td></td>\n",
       "      <td></td>\n",
       "    </tr>\n",
       "    <tr>\n",
       "      <td>2018-02</td>\n",
       "      <td>0.46</td>\n",
       "      <td>0.49</td>\n",
       "      <td>0.5</td>\n",
       "      <td>0.51</td>\n",
       "      <td></td>\n",
       "      <td></td>\n",
       "      <td></td>\n",
       "      <td></td>\n",
       "      <td></td>\n",
       "      <td></td>\n",
       "      <td></td>\n",
       "      <td></td>\n",
       "    </tr>\n",
       "    <tr>\n",
       "      <td>2018-03</td>\n",
       "      <td>0.56</td>\n",
       "      <td>0.6</td>\n",
       "      <td>0.63</td>\n",
       "      <td></td>\n",
       "      <td></td>\n",
       "      <td></td>\n",
       "      <td></td>\n",
       "      <td></td>\n",
       "      <td></td>\n",
       "      <td></td>\n",
       "      <td></td>\n",
       "      <td></td>\n",
       "    </tr>\n",
       "    <tr>\n",
       "      <td>2018-04</td>\n",
       "      <td>0.48</td>\n",
       "      <td>0.53</td>\n",
       "      <td></td>\n",
       "      <td></td>\n",
       "      <td></td>\n",
       "      <td></td>\n",
       "      <td></td>\n",
       "      <td></td>\n",
       "      <td></td>\n",
       "      <td></td>\n",
       "      <td></td>\n",
       "      <td></td>\n",
       "    </tr>\n",
       "    <tr>\n",
       "      <td>2018-05</td>\n",
       "      <td>0.63</td>\n",
       "      <td></td>\n",
       "      <td></td>\n",
       "      <td></td>\n",
       "      <td></td>\n",
       "      <td></td>\n",
       "      <td></td>\n",
       "      <td></td>\n",
       "      <td></td>\n",
       "      <td></td>\n",
       "      <td></td>\n",
       "      <td></td>\n",
       "    </tr>\n",
       "  </tbody>\n",
       "</table>\n",
       "</div>"
      ],
      "text/plain": [
       "age                  0     1     2     3     4     5     6     7     8     9   \\\n",
       "first_order_month                                                               \n",
       "2017-06            0.53  0.59  0.63  0.74  0.86  0.94  1.05  1.11  1.17  1.24   \n",
       "2017-07            0.63  0.67  0.73  0.77  0.79  0.81  0.82  0.84  0.85  0.87   \n",
       "2017-08            0.49  0.53  0.57  0.61  0.66  0.68   0.7  0.74  0.77  0.78   \n",
       "2017-09            0.60  0.72  0.77  1.19  1.23   1.3  1.38   1.4  1.42         \n",
       "2017-10            0.60  0.66  0.68   0.7  0.72  0.74  0.75  0.76               \n",
       "2017-11            0.55   0.6  0.62  0.65  0.67  0.68  0.69                     \n",
       "2017-12            0.54  0.57  0.68   0.8  0.84  0.87                           \n",
       "2018-01            0.42  0.45  0.48  0.49   0.5                                 \n",
       "2018-02            0.46  0.49   0.5  0.51                                       \n",
       "2018-03            0.56   0.6  0.63                                             \n",
       "2018-04            0.48  0.53                                                   \n",
       "2018-05            0.63                                                         \n",
       "\n",
       "age                  10    11  \n",
       "first_order_month              \n",
       "2017-06            1.31  1.33  \n",
       "2017-07            0.88        \n",
       "2017-08                        \n",
       "2017-09                        \n",
       "2017-10                        \n",
       "2017-11                        \n",
       "2017-12                        \n",
       "2018-01                        \n",
       "2018-02                        \n",
       "2018-03                        \n",
       "2018-04                        \n",
       "2018-05                        "
      ]
     },
     "execution_count": 72,
     "metadata": {},
     "output_type": "execute_result"
    }
   ],
   "source": [
    "output = report_new.pivot_table(\n",
    "   index='first_order_month',\n",
    "   columns='age',\n",
    "   values='roi',\n",
    "   aggfunc='mean')\n",
    "\n",
    "output.cumsum(axis=1).round(2).fillna('')"
   ]
  },
  {
   "cell_type": "markdown",
   "metadata": {},
   "source": [
    "Окупились только две когорты: июньская на 6 месяце и чудесная сентябрьская на 3 месяце. Либо это самые лояльные пользователи, которые стерпят даже рассылку про брошеную корзину, либо в эти когорты затесались перекупы.\n",
    "\n"
   ]
  },
  {
   "cell_type": "markdown",
   "metadata": {},
   "source": [
    "Оценим ROI по источникам. Посчитаем, сколько каждый источник принес денег."
   ]
  },
  {
   "cell_type": "code",
   "execution_count": 73,
   "metadata": {},
   "outputs": [
    {
     "data": {
      "text/html": [
       "<div>\n",
       "<style scoped>\n",
       "    .dataframe tbody tr th:only-of-type {\n",
       "        vertical-align: middle;\n",
       "    }\n",
       "\n",
       "    .dataframe tbody tr th {\n",
       "        vertical-align: top;\n",
       "    }\n",
       "\n",
       "    .dataframe thead th {\n",
       "        text-align: right;\n",
       "    }\n",
       "</style>\n",
       "<table border=\"1\" class=\"dataframe\">\n",
       "  <thead>\n",
       "    <tr style=\"text-align: right;\">\n",
       "      <th></th>\n",
       "      <th>revenue</th>\n",
       "    </tr>\n",
       "    <tr>\n",
       "      <th>source_id</th>\n",
       "      <th></th>\n",
       "    </tr>\n",
       "  </thead>\n",
       "  <tbody>\n",
       "    <tr>\n",
       "      <td>1</td>\n",
       "      <td>31090.55</td>\n",
       "    </tr>\n",
       "    <tr>\n",
       "      <td>2</td>\n",
       "      <td>46923.61</td>\n",
       "    </tr>\n",
       "    <tr>\n",
       "      <td>3</td>\n",
       "      <td>54511.24</td>\n",
       "    </tr>\n",
       "    <tr>\n",
       "      <td>4</td>\n",
       "      <td>56696.83</td>\n",
       "    </tr>\n",
       "    <tr>\n",
       "      <td>5</td>\n",
       "      <td>52624.02</td>\n",
       "    </tr>\n",
       "    <tr>\n",
       "      <td>7</td>\n",
       "      <td>1.22</td>\n",
       "    </tr>\n",
       "    <tr>\n",
       "      <td>9</td>\n",
       "      <td>5759.40</td>\n",
       "    </tr>\n",
       "    <tr>\n",
       "      <td>10</td>\n",
       "      <td>4450.33</td>\n",
       "    </tr>\n",
       "  </tbody>\n",
       "</table>\n",
       "</div>"
      ],
      "text/plain": [
       "            revenue\n",
       "source_id          \n",
       "1          31090.55\n",
       "2          46923.61\n",
       "3          54511.24\n",
       "4          56696.83\n",
       "5          52624.02\n",
       "7              1.22\n",
       "9           5759.40\n",
       "10          4450.33"
      ]
     },
     "execution_count": 73,
     "metadata": {},
     "output_type": "execute_result"
    }
   ],
   "source": [
    "source_revenue = orders_visits.query('start_ts == first_visit_ts').groupby('source_id').agg({'revenue': 'sum'})\n",
    "source_revenue"
   ]
  },
  {
   "cell_type": "markdown",
   "metadata": {},
   "source": [
    "Объединим с затратами на каждый источник."
   ]
  },
  {
   "cell_type": "code",
   "execution_count": 74,
   "metadata": {},
   "outputs": [
    {
     "data": {
      "text/html": [
       "<div>\n",
       "<style scoped>\n",
       "    .dataframe tbody tr th:only-of-type {\n",
       "        vertical-align: middle;\n",
       "    }\n",
       "\n",
       "    .dataframe tbody tr th {\n",
       "        vertical-align: top;\n",
       "    }\n",
       "\n",
       "    .dataframe thead th {\n",
       "        text-align: right;\n",
       "    }\n",
       "</style>\n",
       "<table border=\"1\" class=\"dataframe\">\n",
       "  <thead>\n",
       "    <tr style=\"text-align: right;\">\n",
       "      <th></th>\n",
       "      <th>costs</th>\n",
       "      <th>revenue</th>\n",
       "    </tr>\n",
       "    <tr>\n",
       "      <th>source_id</th>\n",
       "      <th></th>\n",
       "      <th></th>\n",
       "    </tr>\n",
       "  </thead>\n",
       "  <tbody>\n",
       "    <tr>\n",
       "      <td>1</td>\n",
       "      <td>20833.27</td>\n",
       "      <td>31090.55</td>\n",
       "    </tr>\n",
       "    <tr>\n",
       "      <td>2</td>\n",
       "      <td>42806.04</td>\n",
       "      <td>46923.61</td>\n",
       "    </tr>\n",
       "    <tr>\n",
       "      <td>3</td>\n",
       "      <td>141321.63</td>\n",
       "      <td>54511.24</td>\n",
       "    </tr>\n",
       "    <tr>\n",
       "      <td>4</td>\n",
       "      <td>61073.60</td>\n",
       "      <td>56696.83</td>\n",
       "    </tr>\n",
       "    <tr>\n",
       "      <td>5</td>\n",
       "      <td>51757.10</td>\n",
       "      <td>52624.02</td>\n",
       "    </tr>\n",
       "    <tr>\n",
       "      <td>9</td>\n",
       "      <td>5517.49</td>\n",
       "      <td>5759.40</td>\n",
       "    </tr>\n",
       "    <tr>\n",
       "      <td>10</td>\n",
       "      <td>5822.49</td>\n",
       "      <td>4450.33</td>\n",
       "    </tr>\n",
       "  </tbody>\n",
       "</table>\n",
       "</div>"
      ],
      "text/plain": [
       "               costs   revenue\n",
       "source_id                     \n",
       "1           20833.27  31090.55\n",
       "2           42806.04  46923.61\n",
       "3          141321.63  54511.24\n",
       "4           61073.60  56696.83\n",
       "5           51757.10  52624.02\n",
       "9            5517.49   5759.40\n",
       "10           5822.49   4450.33"
      ]
     },
     "execution_count": 74,
     "metadata": {},
     "output_type": "execute_result"
    }
   ],
   "source": [
    "source_roi = pd.merge(costs_by_source, source_revenue, on='source_id')\n",
    "source_roi"
   ]
  },
  {
   "cell_type": "markdown",
   "metadata": {},
   "source": [
    "Рассчитаем отношение прибыли к затратам."
   ]
  },
  {
   "cell_type": "code",
   "execution_count": 75,
   "metadata": {},
   "outputs": [
    {
     "data": {
      "text/html": [
       "<div>\n",
       "<style scoped>\n",
       "    .dataframe tbody tr th:only-of-type {\n",
       "        vertical-align: middle;\n",
       "    }\n",
       "\n",
       "    .dataframe tbody tr th {\n",
       "        vertical-align: top;\n",
       "    }\n",
       "\n",
       "    .dataframe thead th {\n",
       "        text-align: right;\n",
       "    }\n",
       "</style>\n",
       "<table border=\"1\" class=\"dataframe\">\n",
       "  <thead>\n",
       "    <tr style=\"text-align: right;\">\n",
       "      <th></th>\n",
       "      <th>costs</th>\n",
       "      <th>revenue</th>\n",
       "      <th>roi</th>\n",
       "    </tr>\n",
       "    <tr>\n",
       "      <th>source_id</th>\n",
       "      <th></th>\n",
       "      <th></th>\n",
       "      <th></th>\n",
       "    </tr>\n",
       "  </thead>\n",
       "  <tbody>\n",
       "    <tr>\n",
       "      <td>1</td>\n",
       "      <td>20833.27</td>\n",
       "      <td>31090.55</td>\n",
       "      <td>1.492351</td>\n",
       "    </tr>\n",
       "    <tr>\n",
       "      <td>2</td>\n",
       "      <td>42806.04</td>\n",
       "      <td>46923.61</td>\n",
       "      <td>1.096191</td>\n",
       "    </tr>\n",
       "    <tr>\n",
       "      <td>3</td>\n",
       "      <td>141321.63</td>\n",
       "      <td>54511.24</td>\n",
       "      <td>0.385725</td>\n",
       "    </tr>\n",
       "    <tr>\n",
       "      <td>4</td>\n",
       "      <td>61073.60</td>\n",
       "      <td>56696.83</td>\n",
       "      <td>0.928336</td>\n",
       "    </tr>\n",
       "    <tr>\n",
       "      <td>5</td>\n",
       "      <td>51757.10</td>\n",
       "      <td>52624.02</td>\n",
       "      <td>1.016750</td>\n",
       "    </tr>\n",
       "    <tr>\n",
       "      <td>9</td>\n",
       "      <td>5517.49</td>\n",
       "      <td>5759.40</td>\n",
       "      <td>1.043844</td>\n",
       "    </tr>\n",
       "    <tr>\n",
       "      <td>10</td>\n",
       "      <td>5822.49</td>\n",
       "      <td>4450.33</td>\n",
       "      <td>0.764335</td>\n",
       "    </tr>\n",
       "  </tbody>\n",
       "</table>\n",
       "</div>"
      ],
      "text/plain": [
       "               costs   revenue       roi\n",
       "source_id                               \n",
       "1           20833.27  31090.55  1.492351\n",
       "2           42806.04  46923.61  1.096191\n",
       "3          141321.63  54511.24  0.385725\n",
       "4           61073.60  56696.83  0.928336\n",
       "5           51757.10  52624.02  1.016750\n",
       "9            5517.49   5759.40  1.043844\n",
       "10           5822.49   4450.33  0.764335"
      ]
     },
     "execution_count": 75,
     "metadata": {},
     "output_type": "execute_result"
    }
   ],
   "source": [
    "source_roi['roi'] = source_roi['revenue'] / source_roi['costs']\n",
    "source_roi"
   ]
  },
  {
   "cell_type": "markdown",
   "metadata": {},
   "source": [
    "Оценим ROI на графике."
   ]
  },
  {
   "cell_type": "code",
   "execution_count": 76,
   "metadata": {},
   "outputs": [
    {
     "data": {
      "text/plain": [
       "<matplotlib.axes._subplots.AxesSubplot at 0x7f731accc290>"
      ]
     },
     "execution_count": 76,
     "metadata": {},
     "output_type": "execute_result"
    },
    {
     "data": {
      "image/png": "[encoded data removed]",
      "text/plain": [
       "<Figure size 432x288 with 1 Axes>"
      ]
     },
     "metadata": {
      "needs_background": "light"
     },
     "output_type": "display_data"
    }
   ],
   "source": [
    "source_roi['roi'].plot(kind='bar', grid=True, figsize=(6, 4), legend=True)"
   ]
  },
  {
   "cell_type": "markdown",
   "metadata": {},
   "source": [
    "Лучше всего окупается источник 1. Источники 3, 4 и 10 не окупаются. При этом источник 3, на который уходит больше всего бюджета, имеет худший показатель ROI.\n",
    "\n"
   ]
  },
  {
   "cell_type": "markdown",
   "metadata": {},
   "source": [
    "### Вывод\n",
    "\n",
    "Общие раходы за период - 329131.62 тыс.руб.\n",
    "\n",
    "Большая часть расходов пошла источник под кодом 3, чем бы это ни было.\n",
    "\n",
    "В условно холодное время года расходы на маркетинг выше. Возможно, в этот период люди не очень хотят выходить из дома, и требуется больше ресурсов, чтобы сподвигнуть их на покупку билета.\n",
    "\n",
    "Источник 3 приносит больше всего клиентов, однако имеет самую большую стоимость привлечения одного клиента. А вот источник 4 приносит много клиентов, но стоимость привлечения каждого гораздо ниже. \n",
    "\n",
    "Лучше всего окупается источник 1. Источники 3, 4 и 10 не окупаются. При этом источник 3, на который уходит больше всего бюджета, имеет худший показатель ROI."
   ]
  },
  {
   "cell_type": "markdown",
   "metadata": {},
   "source": [
    "Источники 1, 2, 5 и 9 окупаются, при этом источник 1 - лучше всех.\n",
    "Больше всего клиентов из источников 3, 4, 5.\n",
    "Наименьшая стоимость привлечения одного клиента у источников 10, 9, 4, 1, 5\n",
    "\n",
    "\n",
    "\n",
    "\n",
    "\n",
    "\n",
    "\n",
    "\n",
    "Был проведен анализ данных от Яндекс.Афиши за период в год: с июня 2017 по конец мая 2018 года. Использовались данные:\n",
    "* лог сервера с данными о посещениях сайта Яндекс.Афиши,\n",
    "* выгрузка всех заказов за этот период,\n",
    "* статистика рекламных расходов.\n",
    "\n",
    "По результатам анализа было определено, как люди пользуются продуктом; когда они начинают покупать; сколько денег приносит каждый клиент; когда клиент окупается.\n",
    "\n",
    "#### Как люди пользуются продуктом\n",
    "\n",
    "Пользовательская активность за период:\n",
    "* DAU = 907.99, \n",
    "* WAU = 5716.25, \n",
    "* MAU = 23228.42.\n",
    "\n",
    "Среднее количество сессий в день на пользователя: 1.08 шт.\n",
    "\n",
    "Средняя продолжительность сессии: ASL = 60 секунд.\n",
    "\n",
    "Возвращение пользователей к продукту:\n",
    "* 15.9% пользователей возвращаются в течение недели,\n",
    "* 3.9% - в течение месяца.\n",
    "\n",
    "#### Когда пользователи начинают покупать\n",
    "\n",
    "Характерное значение промежутка между первым визитом и первым заказом - 16 минут. При том, что самая частотная длительность сессии - 60 с, скорее всего в такие сессии покупки не совершают. Откуда пришли эти пользователи -> проработать источник.\n",
    "\n",
    "\n",
    "#### Cколько денег приносит каждый клиент\n",
    "\n",
    "Большинство пользователей делали по одному заказу за период в год. Медианный средний чек - 2500 рублей, средний чек - 4090. Такие цифры похожи на билеты в театр или на концерт. -> продвигать именно театры и концерты, не кино.\n",
    "\n",
    "Если смотреть в разрезе когорт, то пользователи приносят наиболее количество денег в 0 месяц lifetime. Это соотносится и с покупкой раз в год, и с величиной среднего чека.\n",
    "\n",
    "#### Когда клиент окупается\n",
    "\n",
    "Общие раходы за период - 329131.62 тыс.руб.\n",
    "\n",
    "Большая часть расходов пошла источник под кодом 3, чем бы это ни было.\n",
    "\n",
    "В условно холодное время года расходы на маркетинг выше. Возможно, в этот период люди не очень хотят выходить из дома, и требуется больше ресурсов, чтобы сподвигнуть их на покупку билета.\n",
    "\n",
    "Источник 3 приносит больше всего клиентов, однако имеет самую большую стоимость привлечения одного клиента. А вот источник 4 приносит много клиентов, но стоимость привлечения каждого гораздо ниже. \n",
    "\n",
    "Лучше всего окупается источник 1. Источники 3, 4 и 10 не окупаются. При этом источник 3, на который уходит больше всего бюджета, имеет худший показатель ROI."
   ]
  },
  {
   "cell_type": "markdown",
   "metadata": {},
   "source": [
    "## Шаг 3. Выводы и рекомендации \n",
    "\n",
    "Составим рекомендации маркетологам, куда им стоит вкладывать деньги.\n",
    "\n",
    "#### В какой источник вкладывать деньги\n",
    "\n",
    "Приведем еще раз графики по источникам, с которых приходят клиенты. Соотнесем окупаемость и стоимость привлечения одного клиента."
   ]
  },
  {
   "cell_type": "code",
   "execution_count": 77,
   "metadata": {},
   "outputs": [
    {
     "data": {
      "text/plain": [
       "<matplotlib.axes._subplots.AxesSubplot at 0x7f731abac890>"
      ]
     },
     "execution_count": 77,
     "metadata": {},
     "output_type": "execute_result"
    },
    {
     "data": {
      "image/png": "[encoded data removed]",
      "text/plain": [
       "<Figure size 432x288 with 1 Axes>"
      ]
     },
     "metadata": {
      "needs_background": "light"
     },
     "output_type": "display_data"
    },
    {
     "data": {
      "image/png": "[encoded data removed]",
      "text/plain": [
       "<Figure size 432x288 with 1 Axes>"
      ]
     },
     "metadata": {
      "needs_background": "light"
     },
     "output_type": "display_data"
    }
   ],
   "source": [
    "source_roi['roi'].plot(kind='bar', grid=True, figsize=(6, 4), legend=True)\n",
    "cost_per_client.plot(kind='bar', x='source_id', y='cost_per_client', grid=True, figsize=(6, 4))"
   ]
  },
  {
   "cell_type": "markdown",
   "metadata": {},
   "source": [
    "Источник 3 имеет наибольшую стоиомость привлечения одного клиента, при этом далек от окупаемости. В то же время именно на него маркетинг расходует наибольшую сумму.\n",
    "\n",
    "Окупаются источники 1, 2, 5 и 9. При этом источник 2 имеет достаточно высокую стоимость привлечения клиентов.\n",
    "\n",
    "Исходя из этих метрик рекомендация - снизить бюджет на источник 3 и направить его на источники 1 и 9. Это источники с наилучшей окупаемостью и наименьшей стоимостью привлечения клиента при условии окупаемости источника."
   ]
  },
  {
   "cell_type": "markdown",
   "metadata": {},
   "source": [
    "#### Какие платформы следует развивать\n",
    "\n",
    "У нас нет данных о мобильном приложении Яндекс.Афишы, поэтому сравниваем только десктопную и мобильную версии сайта.\n",
    "\n",
    "Месячная аудитория десктопа в 2,5 раза выше, чем мобильного сайта:"
   ]
  },
  {
   "cell_type": "code",
   "execution_count": 78,
   "metadata": {},
   "outputs": [
    {
     "data": {
      "text/plain": [
       "uid    16724.916667\n",
       "dtype: float64"
      ]
     },
     "execution_count": 78,
     "metadata": {},
     "output_type": "execute_result"
    }
   ],
   "source": [
    "mau_desktop"
   ]
  },
  {
   "cell_type": "code",
   "execution_count": 79,
   "metadata": {},
   "outputs": [
    {
     "data": {
      "text/plain": [
       "uid    6825.916667\n",
       "dtype: float64"
      ]
     },
     "execution_count": 79,
     "metadata": {},
     "output_type": "execute_result"
    }
   ],
   "source": [
    "mau_touch"
   ]
  },
  {
   "cell_type": "markdown",
   "metadata": {},
   "source": [
    "Прибыль с десктопа в 12,5 раз выше, чем с мобильного сайта:"
   ]
  },
  {
   "cell_type": "code",
   "execution_count": 80,
   "metadata": {},
   "outputs": [
    {
     "data": {
      "text/plain": [
       "6447893.990000001"
      ]
     },
     "execution_count": 80,
     "metadata": {},
     "output_type": "execute_result"
    }
   ],
   "source": [
    "revenue_total_desktop"
   ]
  },
  {
   "cell_type": "code",
   "execution_count": 81,
   "metadata": {},
   "outputs": [
    {
     "data": {
      "text/plain": [
       "514313.36"
      ]
     },
     "execution_count": 81,
     "metadata": {},
     "output_type": "execute_result"
    }
   ],
   "source": [
    "revenue_total_touch"
   ]
  },
  {
   "cell_type": "markdown",
   "metadata": {},
   "source": [
    "Отсюда рекомендация - вложить больше ресурсов в развитие основной версии сайта.\n",
    "\n"
   ]
  }
 ],
 "metadata": {
  "kernelspec": {
   "display_name": "Python 3",
   "language": "python",
   "name": "python3"
  },
  "language_info": {
   "codemirror_mode": {
    "name": "ipython",
    "version": 3
   },
   "file_extension": ".py",
   "mimetype": "text/x-python",
   "name": "python",
   "nbconvert_exporter": "python",
   "pygments_lexer": "ipython3",
   "version": "3.7.8"
  },
  "toc": {
   "base_numbering": 1,
   "nav_menu": {},
   "number_sections": true,
   "sideBar": true,
   "skip_h1_title": true,
   "title_cell": "Table of Contents",
   "title_sidebar": "Contents",
   "toc_cell": false,
   "toc_position": {},
   "toc_section_display": true,
   "toc_window_display": false
  }
 },
 "nbformat": 4,
 "nbformat_minor": 2
}